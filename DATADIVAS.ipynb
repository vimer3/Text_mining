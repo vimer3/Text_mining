{
  "cells": [
    {
      "cell_type": "markdown",
      "metadata": {
        "id": "view-in-github",
        "colab_type": "text"
      },
      "source": [
        "<a href=\"https://colab.research.google.com/github/vimer3/Text_mining/blob/main/DATADIVAS.ipynb\" target=\"_parent\"><img src=\"https://colab.research.google.com/assets/colab-badge.svg\" alt=\"Open In Colab\"/></a>"
      ]
    },
    {
      "cell_type": "markdown",
      "id": "3f9a066c",
      "metadata": {
        "id": "3f9a066c"
      },
      "source": [
        "# **Data Divas**\n",
        "\n",
        "Matteo Fossati\n",
        "Gianni Valena\n",
        "Vimercati Alessandro\n",
        "\n",
        "### Operation that is going to be performed\n",
        "\n",
        "1. Data Exploratory Analysis\n",
        "\n",
        "2. VADER\n",
        "\n",
        "3. Neural Network approach\n",
        "\n",
        "4. Transformer Based Approach\n",
        "\n",
        "5. Compare the models\n",
        "\n",
        "***\n",
        "\n",
        "### Esplanation of the dataset and\n",
        "reviews dataset from Yelp! for classification/sentiment analysis tasks\n",
        "\n",
        "Column\tDescription\n",
        "class_index\ta number from 1 to 5\n",
        "review\tthe text of the review\n",
        "\n",
        "The Yelp reviews dataset consists of reviews from Yelp. It is extracted from the Yelp Dataset Challenge 2015 data.\n",
        "\n",
        "The Yelp reviews full star dataset is constructed by Xiang Zhang [mailto:xiang.zhang@nyu.edu] from the above dataset. It is first used as a text classification benchmark in the following paper: Xiang Zhang, Junbo Zhao, Yann LeCun. Character-level Convolutional Networks for Text Classification. Advances in Neural Information Processing Systems 28 (NIPS 2015).\n",
        "\n",
        "The Yelp reviews full star dataset is constructed by randomly taking 130,000 training samples and 10,000 testing samples for each review star from 1 to 5. In total there are 650,000 trainig samples and 50,000 testing samples.\n",
        "The files train.csv and test.csv contain all the training samples as comma-sparated values. There are 2 columns in them, corresponding to class index (1 to 5) and review text. The review texts are escaped using double quotes (\"), and any internal double quote is escaped by 2 double quotes (\"\"). New lines are escaped by a backslash followed with an \"n\" character, that is \"\\n\".\n",
        "\n",
        "train 650,000 | test 50,000\n"
      ]
    },
    {
      "cell_type": "markdown",
      "id": "99f78d61",
      "metadata": {
        "id": "99f78d61"
      },
      "source": [
        "<img src=\"https://media.giphy.com/media/BpGWitbFZflfSUYuZ9/giphy.gif\">"
      ]
    },
    {
      "cell_type": "markdown",
      "id": "61c9b853",
      "metadata": {
        "id": "61c9b853"
      },
      "source": [
        "# Libraries"
      ]
    },
    {
      "cell_type": "code",
      "execution_count": null,
      "id": "0e5e46bb",
      "metadata": {
        "colab": {
          "base_uri": "https://localhost:8080/"
        },
        "id": "0e5e46bb",
        "outputId": "67962f5c-aa23-4dbd-8b13-eca475256e7d"
      },
      "outputs": [
        {
          "output_type": "stream",
          "name": "stderr",
          "text": [
            "/usr/local/lib/python3.8/dist-packages/torch/cuda/__init__.py:497: UserWarning: Can't initialize NVML\n",
            "  warnings.warn(\"Can't initialize NVML\")\n",
            "[nltk_data] Downloading package stopwords to /root/nltk_data...\n",
            "[nltk_data]   Unzipping corpora/stopwords.zip.\n",
            "[nltk_data] Downloading package words to /root/nltk_data...\n",
            "[nltk_data]   Unzipping corpora/words.zip.\n"
          ]
        }
      ],
      "source": [
        "import numpy as np\n",
        "import pandas as pd\n",
        "import spacy\n",
        "import re\n",
        "import nltk\n",
        "import matplotlib.pyplot as plt\n",
        "import statistics\n",
        "import seaborn as sns\n",
        "nltk.download('stopwords')\n",
        "nltk.download('words')\n",
        "\n",
        "import string\n",
        "from bs4 import BeautifulSoup\n",
        "from nltk.stem import PorterStemmer\n",
        "from nltk.stem.wordnet import WordNetLemmatizer\n",
        "from nltk.tokenize import word_tokenize"
      ]
    },
    {
      "cell_type": "markdown",
      "id": "d34b719b",
      "metadata": {
        "id": "d34b719b"
      },
      "source": [
        "## Loading train and test set"
      ]
    },
    {
      "cell_type": "code",
      "source": [
        "from google.colab import drive\n",
        "drive.mount('/content/drive',force_remount=True)"
      ],
      "metadata": {
        "colab": {
          "base_uri": "https://localhost:8080/"
        },
        "id": "Ni9cog2G62UI",
        "outputId": "2cc784ba-2e51-45f0-fa31-0c84dcbfacde"
      },
      "id": "Ni9cog2G62UI",
      "execution_count": null,
      "outputs": [
        {
          "output_type": "stream",
          "name": "stdout",
          "text": [
            "Mounted at /content/drive\n"
          ]
        }
      ]
    },
    {
      "cell_type": "code",
      "execution_count": null,
      "metadata": {
        "id": "rpjXywTQQyDW"
      },
      "outputs": [],
      "source": [
        "train = pd.read_csv('/content/drive/My Drive/sentiment/train.csv', names=('rate','review'))\n"
      ],
      "id": "rpjXywTQQyDW"
    },
    {
      "cell_type": "code",
      "execution_count": null,
      "metadata": {
        "id": "uCSHHdQWRb0G"
      },
      "outputs": [],
      "source": [
        "test = pd.read_csv('/content/drive/My Drive/sentiment/test.csv',names=('rate','review') )\n"
      ],
      "id": "uCSHHdQWRb0G"
    },
    {
      "cell_type": "markdown",
      "id": "da616cbe",
      "metadata": {
        "id": "da616cbe"
      },
      "source": [
        "# **Data cleanining**   \n",
        "We are going to perferm a light cleaning in which we are going to remove only the string that do not add any relevant information.\n",
        "\n",
        "Applying this cleaning process we are going to create the column \"review\" that we will use for Vader, RNN based classification and Transformer Based Approach.\n",
        "\n",
        "\n"
      ]
    },
    {
      "cell_type": "code",
      "source": [
        "train['Length'] = train['review'].apply(len)\n",
        "length = train['Length'].sum()"
      ],
      "metadata": {
        "id": "pWR9LfkrCutA"
      },
      "id": "pWR9LfkrCutA",
      "execution_count": null,
      "outputs": []
    },
    {
      "cell_type": "code",
      "source": [
        "length"
      ],
      "metadata": {
        "colab": {
          "base_uri": "https://localhost:8080/"
        },
        "id": "lMVTDIdSDOqy",
        "outputId": "33c91435-036f-4df7-e45e-d19599f4106c"
      },
      "id": "lMVTDIdSDOqy",
      "execution_count": null,
      "outputs": [
        {
          "output_type": "execute_result",
          "data": {
            "text/plain": [
              "476011554"
            ]
          },
          "metadata": {},
          "execution_count": 8
        }
      ]
    },
    {
      "cell_type": "markdown",
      "id": "c9b15f98",
      "metadata": {
        "id": "c9b15f98"
      },
      "source": [
        "## Remove HTML sequences"
      ]
    },
    {
      "cell_type": "code",
      "execution_count": null,
      "id": "2333fa46",
      "metadata": {
        "id": "2333fa46"
      },
      "outputs": [],
      "source": [
        "def clean_html(html):\n",
        "    # parse html content\n",
        "    soup = BeautifulSoup(html, \"html.parser\")\n",
        "\n",
        "    for data in soup(['style', 'script', 'code', 'a']):\n",
        "        # Remove tags\n",
        "        data.decompose()\n",
        "\n",
        "    # return data by retrieving the tag content\n",
        "    return ' '.join(soup.stripped_strings)"
      ]
    },
    {
      "cell_type": "code",
      "execution_count": null,
      "id": "dc0bc1fc",
      "metadata": {
        "colab": {
          "base_uri": "https://localhost:8080/"
        },
        "id": "dc0bc1fc",
        "outputId": "249aec6f-b021-4973-ef2a-c250445ffad1"
      },
      "outputs": [
        {
          "output_type": "stream",
          "name": "stderr",
          "text": [
            "/usr/local/lib/python3.8/dist-packages/bs4/__init__.py:270: UserWarning: \"b'.'\" looks like a filename, not markup. You should probably open this file and pass the filehandle into Beautiful Soup.\n",
            "  warnings.warn(\n",
            "/usr/local/lib/python3.8/dist-packages/bs4/__init__.py:270: UserWarning: \"b'..'\" looks like a filename, not markup. You should probably open this file and pass the filehandle into Beautiful Soup.\n",
            "  warnings.warn(\n",
            "/usr/local/lib/python3.8/dist-packages/bs4/__init__.py:332: UserWarning: \"http://lamestizamadison.wordpress.com/\" looks like a URL. Beautiful Soup is not an HTTP client. You should probably use an HTTP client like requests to get the document behind the URL, and feed that document to Beautiful Soup.\n",
            "  warnings.warn(\n",
            "/usr/local/lib/python3.8/dist-packages/bs4/__init__.py:332: UserWarning: \"http://kristilynk.wordpress.com\" looks like a URL. Beautiful Soup is not an HTTP client. You should probably use an HTTP client like requests to get the document behind the URL, and feed that document to Beautiful Soup.\n",
            "  warnings.warn(\n",
            "/usr/local/lib/python3.8/dist-packages/bs4/__init__.py:332: UserWarning: \"http://www.journaldemontreal.com/2014/07/28/franchement-decevant\" looks like a URL. Beautiful Soup is not an HTTP client. You should probably use an HTTP client like requests to get the document behind the URL, and feed that document to Beautiful Soup.\n",
            "  warnings.warn(\n"
          ]
        }
      ],
      "source": [
        "train['review'] = train['review'].apply(clean_html)"
      ]
    },
    {
      "cell_type": "code",
      "source": [
        "train['Length'] = train['review'].apply(len)\n",
        "length_1 = train['Length'].sum()\n",
        "\n",
        "print('HTML strings removed : ', length - length_1)\n"
      ],
      "metadata": {
        "colab": {
          "base_uri": "https://localhost:8080/"
        },
        "id": "tVaiVfFdCApK",
        "outputId": "e8a50f1c-24de-4f1b-b16b-14777776ea1b"
      },
      "id": "tVaiVfFdCApK",
      "execution_count": null,
      "outputs": [
        {
          "output_type": "stream",
          "name": "stdout",
          "text": [
            "HTML strings removed :  248\n"
          ]
        }
      ]
    },
    {
      "cell_type": "code",
      "execution_count": null,
      "id": "bb4d0571",
      "metadata": {
        "id": "bb4d0571"
      },
      "outputs": [],
      "source": [
        "test['review'] = test['review'].apply(clean_html)"
      ]
    },
    {
      "cell_type": "markdown",
      "id": "32b482a0",
      "metadata": {
        "id": "32b482a0"
      },
      "source": [
        "## Remove emoji\n",
        "We decided to remove the emoji in this light initial cleaning because we find out that we have only two emoji in the all datase"
      ]
    },
    {
      "cell_type": "code",
      "execution_count": null,
      "id": "137aed7f",
      "metadata": {
        "id": "137aed7f"
      },
      "outputs": [],
      "source": [
        "def remove_emojis(data):\n",
        "    emoj = re.compile(\"[\"\n",
        "        u\"\\U0001F600-\\U0001F64F\"  # emoticons\n",
        "        u\"\\U0001F300-\\U0001F5FF\"  # symbols & pictographs\n",
        "        u\"\\U0001F680-\\U0001F6FF\"  # transport & map symbols\n",
        "        u\"\\U0001F1E0-\\U0001F1FF\"  # flags (iOS)\n",
        "        u\"\\U00002500-\\U00002BEF\"  # chinese char\n",
        "        u\"\\U00002702-\\U000027B0\"\n",
        "        u\"\\U00002702-\\U000027B0\"\n",
        "        u\"\\U000024C2-\\U0001F251\"\n",
        "        u\"\\U0001f926-\\U0001f937\"\n",
        "        u\"\\U00010000-\\U0010ffff\"\n",
        "        u\"\\u2640-\\u2642\"\n",
        "        u\"\\u2600-\\u2B55\"\n",
        "        u\"\\u200d\"\n",
        "        u\"\\u23cf\"\n",
        "        u\"\\u23e9\"\n",
        "        u\"\\u231a\"\n",
        "        u\"\\ufe0f\"  # dingbats\n",
        "        u\"\\u3030\"\n",
        "                      \"]+\", re.UNICODE)\n",
        "    return re.sub(emoj, '', data)"
      ]
    },
    {
      "cell_type": "code",
      "execution_count": null,
      "id": "66045825",
      "metadata": {
        "id": "66045825"
      },
      "outputs": [],
      "source": [
        "train['review'] = train['review'].apply(remove_emojis)"
      ]
    },
    {
      "cell_type": "code",
      "execution_count": null,
      "id": "2042390a",
      "metadata": {
        "id": "2042390a"
      },
      "outputs": [],
      "source": [
        "test['review'] = test['review'].apply(remove_emojis)"
      ]
    },
    {
      "cell_type": "code",
      "source": [
        "train['Length'] = train['review'].apply(len)\n",
        "length_2 = train['Length'].sum()\n",
        "\n",
        "print('Emoji strings removed : ', length_1 - length_2)"
      ],
      "metadata": {
        "colab": {
          "base_uri": "https://localhost:8080/"
        },
        "id": "cpbyTUYpFjy-",
        "outputId": "7a85254c-bd02-4d4c-ddd8-3fd14384a1f4"
      },
      "id": "cpbyTUYpFjy-",
      "execution_count": null,
      "outputs": [
        {
          "output_type": "stream",
          "name": "stdout",
          "text": [
            "Emoji strings removed :  0\n"
          ]
        }
      ]
    },
    {
      "cell_type": "markdown",
      "id": "f6895ce3",
      "metadata": {
        "id": "f6895ce3"
      },
      "source": [
        "## Remove URL:"
      ]
    },
    {
      "cell_type": "code",
      "execution_count": null,
      "id": "57fd3027",
      "metadata": {
        "id": "57fd3027"
      },
      "outputs": [],
      "source": [
        "def remove_URL(headline_text):\n",
        "    url = re.compile(r'https?://\\S+|www\\.\\S+')\n",
        "    return url.sub(r'', headline_text)"
      ]
    },
    {
      "cell_type": "code",
      "execution_count": null,
      "id": "ce2e58e5",
      "metadata": {
        "id": "ce2e58e5"
      },
      "outputs": [],
      "source": [
        "train['review'] = train['review'].apply(remove_URL)"
      ]
    },
    {
      "cell_type": "code",
      "execution_count": null,
      "id": "96673c3c",
      "metadata": {
        "id": "96673c3c"
      },
      "outputs": [],
      "source": [
        "test['review'] = test['review'].apply(remove_URL)\n"
      ]
    },
    {
      "cell_type": "code",
      "source": [
        "train['Length'] = train['review'].apply(len)\n",
        "length_3 = train['Length'].sum()\n",
        "\n",
        "print('URL strings removed : ', length_2 - length_3)"
      ],
      "metadata": {
        "colab": {
          "base_uri": "https://localhost:8080/"
        },
        "id": "EUoS7CDgHU_g",
        "outputId": "55e18239-72b9-4d4d-860e-66495f03343b"
      },
      "id": "EUoS7CDgHU_g",
      "execution_count": null,
      "outputs": [
        {
          "output_type": "stream",
          "name": "stdout",
          "text": [
            "URL strings removed :  377393\n"
          ]
        }
      ]
    },
    {
      "cell_type": "markdown",
      "id": "2a50db18",
      "metadata": {
        "id": "2a50db18"
      },
      "source": [
        "## Remove non printable characters"
      ]
    },
    {
      "cell_type": "code",
      "execution_count": null,
      "id": "a6173553",
      "metadata": {
        "id": "a6173553"
      },
      "outputs": [],
      "source": [
        "def remove_non_printable(text):\n",
        "    text = ''.join([word for word in text if word in string.printable])\n",
        "    return text"
      ]
    },
    {
      "cell_type": "code",
      "execution_count": null,
      "id": "c00e5cc3",
      "metadata": {
        "id": "c00e5cc3"
      },
      "outputs": [],
      "source": [
        "train['review'] = train['review'].apply(remove_non_printable)"
      ]
    },
    {
      "cell_type": "code",
      "execution_count": null,
      "id": "4a666c9c",
      "metadata": {
        "id": "4a666c9c"
      },
      "outputs": [],
      "source": [
        "test['review'] = test['review'].apply(remove_non_printable)"
      ]
    },
    {
      "cell_type": "code",
      "source": [
        "train['Length'] = train['review'].apply(len)\n",
        "length_4 = train['Length'].sum()\n",
        "\n",
        "print('Non Printable characters removed : ', length_3 - length_4)"
      ],
      "metadata": {
        "colab": {
          "base_uri": "https://localhost:8080/"
        },
        "id": "t5Z8CvPAHl5p",
        "outputId": "01792751-8cc1-4517-b5ed-ddef33c91126"
      },
      "id": "t5Z8CvPAHl5p",
      "execution_count": null,
      "outputs": [
        {
          "output_type": "stream",
          "name": "stdout",
          "text": [
            "Non Printable characters removed :  4\n"
          ]
        }
      ]
    },
    {
      "cell_type": "markdown",
      "id": "17a71e6b",
      "metadata": {
        "id": "17a71e6b"
      },
      "source": [
        "## Remove extra white space"
      ]
    },
    {
      "cell_type": "code",
      "execution_count": null,
      "id": "10accbcf",
      "metadata": {
        "id": "10accbcf"
      },
      "outputs": [],
      "source": [
        "def remove_extra_whitespaces_func(text):\n",
        "    return re.sub(r'^\\s*|\\s\\s*', ' ', text).strip()"
      ]
    },
    {
      "cell_type": "code",
      "execution_count": null,
      "id": "defaeee5",
      "metadata": {
        "id": "defaeee5"
      },
      "outputs": [],
      "source": [
        "train['review'] = train['review'].apply(remove_extra_whitespaces_func)"
      ]
    },
    {
      "cell_type": "code",
      "execution_count": null,
      "id": "1fd2ba11",
      "metadata": {
        "id": "1fd2ba11"
      },
      "outputs": [],
      "source": [
        "test['review'] = test['review'].apply(remove_extra_whitespaces_func)"
      ]
    },
    {
      "cell_type": "code",
      "source": [
        "train['Length'] = train['review'].apply(len)\n",
        "length_5 = train['Length'].sum()\n",
        "\n",
        "print('Extra space removed : ', length_4 - length_5)"
      ],
      "metadata": {
        "colab": {
          "base_uri": "https://localhost:8080/"
        },
        "id": "8lFUTY1hHu9T",
        "outputId": "f6097429-60c0-4359-f9fa-10d57694693c"
      },
      "id": "8lFUTY1hHu9T",
      "execution_count": null,
      "outputs": [
        {
          "output_type": "stream",
          "name": "stdout",
          "text": [
            "Extra space removed :  1720787\n"
          ]
        }
      ]
    },
    {
      "cell_type": "markdown",
      "id": "478a2a2a",
      "metadata": {
        "id": "478a2a2a"
      },
      "source": [
        "# **Exploratory Data Analysis using Data Visualization tools**\n",
        "Data Exploration is the first step in data analysis used to explore and visualize data to discover insights from the start or identify areas or models to explore."
      ]
    },
    {
      "cell_type": "code",
      "execution_count": null,
      "id": "1942180e",
      "metadata": {
        "colab": {
          "base_uri": "https://localhost:8080/",
          "height": 377
        },
        "id": "1942180e",
        "outputId": "5539ab28-6f9c-4b16-8d1b-e238d119a946"
      },
      "outputs": [
        {
          "output_type": "execute_result",
          "data": {
            "text/plain": [
              "Text(0.5, 1.0, 'Rating Distribution Across Dataset')"
            ]
          },
          "metadata": {},
          "execution_count": 27
        },
        {
          "output_type": "display_data",
          "data": {
            "text/plain": [
              "<Figure size 460.8x345.6 with 1 Axes>"
            ],
            "image/png": "[encoded data removed]"
          },
          "metadata": {
            "needs_background": "light"
          }
        }
      ],
      "source": [
        "plt.rcParams[\"figure.figsize\"] = plt.rcParamsDefault[\"figure.figsize\"]\n",
        "sns.set_style(style=None, rc=None)\n",
        "sns.countplot(data=train, x='rate', palette='flare').set_title('Rating Distribution Across Dataset')"
      ]
    },
    {
      "cell_type": "markdown",
      "id": "49ce342b",
      "metadata": {
        "id": "49ce342b"
      },
      "source": [
        "From the above graph we can see that the train is perfectly balnced, having the same number of reviews for each Rate"
      ]
    },
    {
      "cell_type": "code",
      "execution_count": null,
      "id": "9a4897e8",
      "metadata": {
        "id": "9a4897e8"
      },
      "outputs": [],
      "source": [
        "train['words_per_review'] = train['review'].str.split().apply(len)\n",
        "n_words_list = train['words_per_review'].values.tolist()"
      ]
    },
    {
      "cell_type": "code",
      "execution_count": null,
      "id": "11d5c03b",
      "metadata": {
        "colab": {
          "base_uri": "https://localhost:8080/",
          "height": 636
        },
        "id": "11d5c03b",
        "outputId": "0e635fd8-9f04-4817-8a1a-a0440be371f0"
      },
      "outputs": [
        {
          "output_type": "display_data",
          "data": {
            "text/plain": [
              "<Figure size 576x576 with 1 Axes>"
            ],
            "image/png": "[encoded data removed]"
          },
          "metadata": {
            "needs_background": "light"
          }
        }
      ],
      "source": [
        "word_mean = statistics.mean(n_words_list)\n",
        "sns.displot(n_words_list, height = 8, kind = \"hist\", kde = True, color = \"pink\")\n",
        "plt.title(\"Length Distribution of reviews\")\n",
        "plt.xlabel(\"review Length\")\n",
        "plt.ylabel(\"review\")\n",
        "\n",
        "plt.plot([word_mean, word_mean], [12000, 61], color = \"red\")\n",
        "n_words_list = train['words_per_review'].values.tolist()"
      ]
    },
    {
      "cell_type": "code",
      "execution_count": null,
      "id": "6c977f18",
      "metadata": {
        "colab": {
          "base_uri": "https://localhost:8080/",
          "height": 304
        },
        "id": "6c977f18",
        "outputId": "e440724c-5d04-4940-cc5f-7d5a127a875b"
      },
      "outputs": [
        {
          "output_type": "execute_result",
          "data": {
            "text/plain": [
              "<seaborn.axisgrid.FacetGrid at 0x7fece93efdf0>"
            ]
          },
          "metadata": {},
          "execution_count": 30
        },
        {
          "output_type": "display_data",
          "data": {
            "text/plain": [
              "<Figure size 1482.38x360 with 1 Axes>"
            ],
            "image/png": "[encoded data removed]"
          },
          "metadata": {
            "needs_background": "light"
          }
        }
      ],
      "source": [
        "sns.displot(data=train, x='Length', hue='rate', palette='flare', kind='kde', fill=True, aspect=4)"
      ]
    },
    {
      "cell_type": "code",
      "source": [
        "sns.boxplot(x='rate',y='words_per_review', data=train, palette='cool', showfliers=False,);\n",
        "plt.ylabel(\"\")\n",
        "plt.title('Text lenght for each star category');"
      ],
      "metadata": {
        "colab": {
          "base_uri": "https://localhost:8080/",
          "height": 360
        },
        "id": "5hHlmA7RMioa",
        "outputId": "76e83c2c-72eb-43bd-e1f5-5362326fbe27"
      },
      "id": "5hHlmA7RMioa",
      "execution_count": null,
      "outputs": [
        {
          "output_type": "display_data",
          "data": {
            "text/plain": [
              "<Figure size 460.8x345.6 with 1 Axes>"
            ],
            "image/png": "[encoded data removed]"
          },
          "metadata": {
            "needs_background": "light"
          }
        }
      ]
    },
    {
      "cell_type": "markdown",
      "source": [
        "***\n",
        "This graphs allows us to visualize the distribution of the lenght of the reviews divided by rate. 5 stars rate reviews are usually shorter than all the others.\n",
        "***"
      ],
      "metadata": {
        "id": "t4AJsneMLO_i"
      },
      "id": "t4AJsneMLO_i"
    },
    {
      "cell_type": "code",
      "execution_count": null,
      "id": "518ebf7a",
      "metadata": {
        "colab": {
          "base_uri": "https://localhost:8080/",
          "height": 259
        },
        "id": "518ebf7a",
        "outputId": "280bee49-e826-4c6c-92de-f884b9b43138"
      },
      "outputs": [
        {
          "output_type": "execute_result",
          "data": {
            "text/plain": [
              "<seaborn.axisgrid.FacetGrid at 0x7fece78ffd90>"
            ]
          },
          "metadata": {},
          "execution_count": 32
        },
        {
          "output_type": "display_data",
          "data": {
            "text/plain": [
              "<Figure size 1080x216 with 5 Axes>"
            ],
            "image/png": "[encoded data removed]"
          },
          "metadata": {
            "needs_background": "light"
          }
        }
      ],
      "source": [
        "g = sns.FacetGrid(data=train, col='rate')\n",
        "g.map(plt.hist, 'Length', color='#973aa8')"
      ]
    },
    {
      "cell_type": "code",
      "execution_count": null,
      "id": "0c698386",
      "metadata": {
        "colab": {
          "base_uri": "https://localhost:8080/",
          "height": 361
        },
        "id": "0c698386",
        "outputId": "ac64de86-cc28-4e4a-b0d7-243439127cb6"
      },
      "outputs": [
        {
          "output_type": "execute_result",
          "data": {
            "text/plain": [
              "<matplotlib.axes._subplots.AxesSubplot at 0x7fece67399a0>"
            ]
          },
          "metadata": {},
          "execution_count": 33
        },
        {
          "output_type": "display_data",
          "data": {
            "text/plain": [
              "<Figure size 460.8x345.6 with 1 Axes>"
            ],
            "image/png": "[encoded data removed]"
          },
          "metadata": {
            "needs_background": "light"
          }
        }
      ],
      "source": [
        "sns.stripplot(data=train, x='rate', y='Length', palette='cool', alpha=0.2)"
      ]
    },
    {
      "cell_type": "markdown",
      "id": "029f9715",
      "metadata": {
        "id": "029f9715"
      },
      "source": [
        "***\n",
        "We can see that in general the negative reviews are a little bit longer that the positive ones\n",
        "\n",
        "| Polarity | Mean Value of Review |\n",
        "|----------|:--------------:|\n",
        "| Negative | 151 |\n",
        "| Positive | 114 |\n",
        "\n",
        "***"
      ]
    },
    {
      "cell_type": "markdown",
      "id": "864c630e",
      "metadata": {
        "id": "864c630e"
      },
      "source": [
        "# **Data Processing**\n",
        "In this section we performe other addictional data cleaning operation to prepare the text for model classification.\n",
        "***"
      ]
    },
    {
      "cell_type": "markdown",
      "id": "bf7d6493",
      "metadata": {
        "id": "bf7d6493"
      },
      "source": [
        "## Lower case"
      ]
    },
    {
      "cell_type": "code",
      "execution_count": null,
      "id": "676aa4f9",
      "metadata": {
        "id": "676aa4f9"
      },
      "outputs": [],
      "source": [
        "train['new_review'] = train['review'].apply(lambda x: \" \".join(x.lower() for x in x.split()))\n",
        "test['new_review'] = test['review'].apply(lambda x: \" \".join(x.lower() for x in x.split()))"
      ]
    },
    {
      "cell_type": "markdown",
      "id": "0214ca42",
      "metadata": {
        "id": "0214ca42"
      },
      "source": [
        "## Remove Punctuation"
      ]
    },
    {
      "cell_type": "code",
      "execution_count": null,
      "id": "94c844f9",
      "metadata": {
        "id": "94c844f9"
      },
      "outputs": [],
      "source": [
        "# Let's now REMOVE PUNCTUATION\n",
        "train['new_review'] = train['new_review'].str.replace('[^\\w\\s]','',regex=True)\n",
        "test['new_review'] = test['new_review'].str.replace('[^\\w\\s]','',regex=True)"
      ]
    },
    {
      "cell_type": "markdown",
      "id": "7a58a254",
      "metadata": {
        "id": "7a58a254"
      },
      "source": [
        "## Remove Numeric Values"
      ]
    },
    {
      "cell_type": "code",
      "execution_count": null,
      "id": "bea7e59b",
      "metadata": {
        "id": "bea7e59b"
      },
      "outputs": [],
      "source": [
        "# define a function that removes NUMERIC VALUES and mixtures\n",
        "def remove_num(text):\n",
        "    text = re.sub(r'\\w*\\d+\\w*', '', text)\n",
        "    return text"
      ]
    },
    {
      "cell_type": "code",
      "execution_count": null,
      "id": "8d50e387",
      "metadata": {
        "id": "8d50e387"
      },
      "outputs": [],
      "source": [
        "train['new_review'] = train['new_review'].apply(remove_num)"
      ]
    },
    {
      "cell_type": "code",
      "execution_count": null,
      "id": "98d8ec68",
      "metadata": {
        "id": "98d8ec68"
      },
      "outputs": [],
      "source": [
        "test['new_review'] = test['new_review'].apply(remove_num)"
      ]
    },
    {
      "cell_type": "markdown",
      "id": "bb68fb76",
      "metadata": {
        "id": "bb68fb76"
      },
      "source": [
        "## Remove Stopwords"
      ]
    },
    {
      "cell_type": "markdown",
      "source": [
        "We deleted some words from the nltk stopword list in order to have more accurate results. Stopwords like \"not\" are significat in sentiemnt analysis so we decided to keep those in the text that we are going to processes in the classification."
      ],
      "metadata": {
        "id": "KysL3va9YBYH"
      },
      "id": "KysL3va9YBYH"
    },
    {
      "cell_type": "code",
      "execution_count": null,
      "id": "0049a138",
      "metadata": {
        "id": "0049a138"
      },
      "outputs": [],
      "source": [
        "stop_light = ['a', 'about', 'above', 'across', 'after', 'afterwards', 'again', 'against', 'all', 'almost', 'alone', 'along', 'already', 'also', 'although', 'always', 'am', 'among', 'amongst', 'amoungst', 'amount', 'an', 'and', 'another', 'any', 'anyhow', 'anyone', 'anything', 'anyway', 'anywhere', 'are', 'around', 'as', 'at', 'back', 'be', 'became', 'because', 'become', 'becomes', 'becoming', 'been', 'before', 'beforehand', 'behind', 'being', 'beside', 'besides', 'between', 'beyond', 'bill', 'both', 'bottom', 'but', 'by', 'call', 'can', 'cannot', 'co', 'could', 'de', 'describe', 'detail', 'do', 'done', 'down', 'due', 'during', 'each', 'eg', 'eight', 'either', 'eleven', 'else', 'elsewhere', 'empty', 'enough', 'etc', 'even', 'ever', 'every', 'everyone', 'everything', 'everywhere', 'except', 'few', 'fifteen', 'fifty', 'fill', 'find', 'fire', 'first', 'five', 'for', 'former', 'formerly', 'forty', 'found', 'four', 'from', 'front', 'full', 'further', 'get', 'give', 'go', 'had', 'has', 'have', 'he', 'hence', 'her', 'here', 'hereafter', 'hereby', 'herein', 'hereupon', 'hers', 'herself', 'him', 'himself', 'his', 'how', 'however', 'hundred', 'i', 'ie', 'if', 'in', 'inc', 'indeed', 'interest', 'into', 'is', 'it', 'its', 'itself', 'keep', 'latter', 'latterly', 'ltd', 'made', 'many', 'may', 'me', 'meanwhile', 'might', 'mill', 'mine', 'more', 'moreover', 'most', 'mostly', 'move', 'must', 'my', 'myself', 'name', 'namely', 'neither', 'never', 'nevertheless', 'next', 'nine', 'no', 'nobody', 'none', 'noone' , 'nothing', 'now', 'nowhere', 'of', 'off', 'often', 'on', 'once', 'one', 'only', 'onto', 'or', 'other', 'others', 'otherwise', 'our', 'ours', 'ourselves', 'out', 'over', 'own', 'part', 'per', 'perhaps', 'please', 'put', 'rather', 're', 'same', 'see', 'seem', 'seemed', 'seeming', 'seems', 'serious', 'several', 'she', 'should', 'show', 'side', 'since', 'sincere', 'six', 'sixty', 'so', 'some', 'somehow', 'someone', 'something', 'sometime', 'sometimes', 'somewhere', 'still', 'such', 'system', 'take', 'ten', 'than', 'that', 'the', 'their', 'them', 'themselves', 'then', 'thence', 'there', 'thereafter', 'thereby', 'therefore', 'therein', 'thereupon', 'these', 'they', 'thick', 'thin', 'third', 'this', 'those', 'though', 'three', 'through', 'throughout', 'thru', 'thus', 'to', 'together', 'too', 'toward', 'towards', 'twelve', 'twenty', 'two', 'un', 'under', 'until', 'up', 'upon', 'us', 'very', 'via', 'was', 'we', 'were', 'what', 'whatever', 'when', 'whence', 'whenever', 'where', 'whereafter', 'whereas', 'whereby', 'wherein', 'whereupon', 'wherever', 'whether', 'which', 'while', 'whither', 'who', 'whoever', 'whole', 'whom', 'whose', 'why', 'will', 'with', 'within', 'without', 'would', 'yet', 'you', 'your', 'yours', 'yourself', 'yourselves',  'however']"
      ]
    },
    {
      "cell_type": "code",
      "execution_count": null,
      "id": "54859af0",
      "metadata": {
        "id": "54859af0"
      },
      "outputs": [],
      "source": [
        "# REMOVE STOPWORDS\n",
        "train['new_review'] = train['new_review'].apply(lambda x: \" \".join(x for x in x.split() if x not in stop_light))\n",
        "test['new_review'] = test['new_review'].apply(lambda x: \" \".join(x for x in x.split() if x not in stop_light))"
      ]
    },
    {
      "cell_type": "markdown",
      "id": "2a0ff0bd",
      "metadata": {
        "id": "2a0ff0bd"
      },
      "source": [
        "# Word Cloud\n",
        "Word clouds are popular for visualizing qualitative data because they’re simple to use and provide quick insights of how topics are mentioned in our data.\n",
        ""
      ]
    },
    {
      "cell_type": "code",
      "execution_count": null,
      "id": "d6d6c15c",
      "metadata": {
        "id": "d6d6c15c"
      },
      "outputs": [],
      "source": [
        "full_text = ' '.join(train['new_review'])"
      ]
    },
    {
      "cell_type": "code",
      "execution_count": null,
      "id": "eb5eb901",
      "metadata": {
        "id": "eb5eb901",
        "colab": {
          "base_uri": "https://localhost:8080/"
        },
        "outputId": "489c91ac-8e8f-487d-dd1f-ac8848922e5f"
      },
      "outputs": [
        {
          "output_type": "stream",
          "name": "stderr",
          "text": [
            "[nltk_data] Downloading package stopwords to /root/nltk_data...\n",
            "[nltk_data]   Package stopwords is already up-to-date!\n"
          ]
        }
      ],
      "source": [
        "import nltk\n",
        "from nltk.corpus import stopwords\n",
        "nltk.download('stopwords')\n",
        "stop_full = stopwords.words('english')"
      ]
    },
    {
      "cell_type": "markdown",
      "id": "0d69113e",
      "metadata": {
        "id": "0d69113e"
      },
      "source": [
        "<img src=\"https://media.giphy.com/media/26gJA86nNiY4a39Ze/giphy.gif\">"
      ]
    },
    {
      "cell_type": "code",
      "execution_count": null,
      "id": "4e8f8158",
      "metadata": {
        "id": "4e8f8158",
        "outputId": "cac13e6e-76d1-4465-fb53-9fd4b338e0d3",
        "colab": {
          "base_uri": "https://localhost:8080/",
          "height": 229
        }
      },
      "outputs": [
        {
          "output_type": "display_data",
          "data": {
            "text/plain": [
              "<Figure size 460.8x345.6 with 1 Axes>"
            ],
            "image/png": "[encoded data removed]"
          },
          "metadata": {
            "needs_background": "light"
          }
        }
      ],
      "source": [
        "from wordcloud import WordCloud\n",
        "# concatenate all the reviews into one single string\n",
        "\n",
        "cloud_no_stopword = WordCloud(background_color='white', colormap='flare' , stopwords=stop_full).generate(full_text)\n",
        "plt.imshow(cloud_no_stopword, interpolation='bilinear')\n",
        "plt.axis('off')\n",
        "plt.show()"
      ]
    },
    {
      "cell_type": "markdown",
      "id": "3a3be637",
      "metadata": {
        "id": "3a3be637"
      },
      "source": [
        "## Lemming\n",
        "Let's now create a Lemming function"
      ]
    },
    {
      "cell_type": "code",
      "execution_count": null,
      "id": "c1cad2d8",
      "metadata": {
        "id": "c1cad2d8",
        "outputId": "2fe2fe11-7fb8-4080-c729-f8f8e231e0ac"
      },
      "outputs": [
        {
          "name": "stderr",
          "output_type": "stream",
          "text": [
            "/Users/alessandrp/opt/anaconda3/envs/text_mining/lib/python3.9/site-packages/spacy/util.py:837: UserWarning: [W095] Model 'en_core_web_sm' (3.4.1) was trained with spaCy v3.4 and may not be 100% compatible with the current version (3.3.1). If you see errors or degraded performance, download a newer compatible model or retrain your custom model with the current spaCy version. For more details and available updates, run: python -m spacy validate\n",
            "  warnings.warn(warn_msg)\n"
          ]
        }
      ],
      "source": [
        "import spacy\n",
        "nlp = spacy.load('en_core_web_sm')\n",
        "\n",
        "#train['new_review'] = train['new_review'].apply(lambda x:' '.join([t.lemma_ for t in nlp(x)]))\n",
        "#test['new_review'] = test['new_review'].apply(lambda x:' '.join([t.lemma_ for t in nlp(x)]))"
      ]
    },
    {
      "cell_type": "markdown",
      "id": "d9ec59dd",
      "metadata": {
        "id": "d9ec59dd"
      },
      "source": [
        "## Word cloud after Lemming"
      ]
    },
    {
      "cell_type": "code",
      "execution_count": null,
      "id": "f907af9c",
      "metadata": {
        "id": "f907af9c"
      },
      "outputs": [],
      "source": [
        "full_text = ' '.join(train['new_review'])"
      ]
    },
    {
      "cell_type": "code",
      "execution_count": null,
      "id": "7979ad23",
      "metadata": {
        "id": "7979ad23",
        "outputId": "f075732c-d50f-45cf-b238-643fb2f3a84b"
      },
      "outputs": [
        {
          "data": {
            "image/png": "[encoded data removed]",
            "text/plain": [
              "<Figure size 640x480 with 1 Axes>"
            ]
          },
          "metadata": {},
          "output_type": "display_data"
        }
      ],
      "source": [
        "from wordcloud import WordCloud\n",
        "# concatenate all the reviews into one single string\n",
        "\n",
        "cloud_stopword = WordCloud(background_color='white', stopwords=stop_full).generate(full_text)\n",
        "plt.imshow(cloud_stopword, interpolation='bilinear')\n",
        "plt.axis('off')\n",
        "plt.show()"
      ]
    },
    {
      "cell_type": "markdown",
      "id": "145c364c",
      "metadata": {
        "id": "145c364c"
      },
      "source": [
        "## Bag of Words (BoW)\n",
        "We may be also interested in how much exactly a word appeared across all the reviews, **Bag of Words** basically builds a list of words occurring within a collection of documents and keeps track of their frequencies."
      ]
    },
    {
      "cell_type": "code",
      "execution_count": null,
      "id": "fb4e39cb",
      "metadata": {
        "id": "fb4e39cb",
        "outputId": "9e775a9b-cd44-4195-8042-815c2fddc17f"
      },
      "outputs": [
        {
          "name": "stderr",
          "output_type": "stream",
          "text": [
            "[nltk_data] Downloading package punkt to\n",
            "[nltk_data]     /Users/alessandrp/nltk_data...\n",
            "[nltk_data]   Package punkt is already up-to-date!\n"
          ]
        }
      ],
      "source": [
        "from nltk.tokenize import word_tokenize\n",
        "from nltk import FreqDist\n",
        "import nltk\n",
        "nltk.download('punkt')\n",
        "\n",
        "\n",
        "lower_full_text = full_text.lower()\n",
        "word_tokens = word_tokenize(lower_full_text)\n",
        "tokens = list()\n",
        "for word in word_tokens:\n",
        "    if word.isalpha() and word not in stop_full:\n",
        "        tokens.append(word)\n",
        "token_dist = FreqDist(tokens)\n",
        "dist_2 = pd.DataFrame(token_dist.most_common(20),columns=['Word', 'Frequency'])"
      ]
    },
    {
      "cell_type": "code",
      "execution_count": null,
      "id": "7d0bd8cd",
      "metadata": {
        "id": "7d0bd8cd",
        "outputId": "11b9d2f3-e22b-4dae-c752-8bba857df2e6"
      },
      "outputs": [
        {
          "data": {
            "text/html": [
              "<div>\n",
              "<style scoped>\n",
              "    .dataframe tbody tr th:only-of-type {\n",
              "        vertical-align: middle;\n",
              "    }\n",
              "\n",
              "    .dataframe tbody tr th {\n",
              "        vertical-align: top;\n",
              "    }\n",
              "\n",
              "    .dataframe thead th {\n",
              "        text-align: right;\n",
              "    }\n",
              "</style>\n",
              "<table border=\"1\" class=\"dataframe\">\n",
              "  <thead>\n",
              "    <tr style=\"text-align: right;\">\n",
              "      <th></th>\n",
              "      <th>Word</th>\n",
              "      <th>Frequency</th>\n",
              "    </tr>\n",
              "  </thead>\n",
              "  <tbody>\n",
              "    <tr>\n",
              "      <th>0</th>\n",
              "      <td>food</td>\n",
              "      <td>381717</td>\n",
              "    </tr>\n",
              "    <tr>\n",
              "      <th>1</th>\n",
              "      <td>good</td>\n",
              "      <td>377671</td>\n",
              "    </tr>\n",
              "    <tr>\n",
              "      <th>2</th>\n",
              "      <td>place</td>\n",
              "      <td>372203</td>\n",
              "    </tr>\n",
              "    <tr>\n",
              "      <th>3</th>\n",
              "      <td>like</td>\n",
              "      <td>312743</td>\n",
              "    </tr>\n",
              "    <tr>\n",
              "      <th>4</th>\n",
              "      <td>time</td>\n",
              "      <td>240898</td>\n",
              "    </tr>\n",
              "  </tbody>\n",
              "</table>\n",
              "</div>"
            ],
            "text/plain": [
              "    Word  Frequency\n",
              "0   food     381717\n",
              "1   good     377671\n",
              "2  place     372203\n",
              "3   like     312743\n",
              "4   time     240898"
            ]
          },
          "execution_count": 43,
          "metadata": {},
          "output_type": "execute_result"
        }
      ],
      "source": [
        "dist_2.head()"
      ]
    },
    {
      "cell_type": "markdown",
      "source": [
        "# **Let's start modelling**"
      ],
      "metadata": {
        "id": "bABmg0vYaeLr"
      },
      "id": "bABmg0vYaeLr"
    },
    {
      "cell_type": "markdown",
      "source": [
        "In this section we are to use basic classification models to see how they perform and compare this results with  more sofisticated RNN classifiers."
      ],
      "metadata": {
        "id": "EIFkJ7lix42Q"
      },
      "id": "EIFkJ7lix42Q"
    },
    {
      "cell_type": "markdown",
      "source": [
        "<img src=\"https://media.giphy.com/media/i3RA5wLyWjCRa/giphy.gif?cid=ecf05e471316as6qs35q071w9awymkxljruukduu8nai4w69&rid=giphy.gif&ct=g\">"
      ],
      "metadata": {
        "id": "PLaxD2Ccasqf"
      },
      "id": "PLaxD2Ccasqf"
    },
    {
      "cell_type": "markdown",
      "id": "3d5af412",
      "metadata": {
        "id": "3d5af412"
      },
      "source": [
        "## Preparing Data"
      ]
    },
    {
      "cell_type": "code",
      "execution_count": null,
      "id": "cfe94dbb",
      "metadata": {
        "id": "cfe94dbb"
      },
      "outputs": [],
      "source": [
        "x_train = train[\"new_review\"]\n"
      ]
    },
    {
      "cell_type": "code",
      "execution_count": null,
      "id": "6b00fcbc",
      "metadata": {
        "id": "6b00fcbc"
      },
      "outputs": [],
      "source": [
        "y_train = train['rate']"
      ]
    },
    {
      "cell_type": "code",
      "execution_count": null,
      "id": "21eadaa2",
      "metadata": {
        "id": "21eadaa2"
      },
      "outputs": [],
      "source": [
        "x_test = test['new_review']"
      ]
    },
    {
      "cell_type": "code",
      "execution_count": null,
      "id": "8da353a6",
      "metadata": {
        "id": "8da353a6"
      },
      "outputs": [],
      "source": [
        "y_test = test['rate']"
      ]
    },
    {
      "cell_type": "markdown",
      "source": [
        "## Initializing the models"
      ],
      "metadata": {
        "id": "d1Ajf9HjPZOR"
      },
      "id": "d1Ajf9HjPZOR"
    },
    {
      "cell_type": "code",
      "execution_count": null,
      "id": "1e47555b",
      "metadata": {
        "id": "1e47555b"
      },
      "outputs": [],
      "source": [
        "from sklearn.pipeline import Pipeline\n",
        "from sklearn.feature_extraction.text import TfidfVectorizer\n",
        "from sklearn.naive_bayes import MultinomialNB\n",
        "from sklearn.svm import LinearSVC\n",
        "\n",
        "# Naïve Bayes:\n",
        "text_clf_nb = Pipeline([('cv', CountVectorizer(stop_words=stop_light,ngram_range = (2,2),tokenizer = token.tokenize)),\n",
        "                     ('clf', MultinomialNB()),\n",
        "])\n",
        "\n",
        "# Linear SVC:\n",
        "text_clf_lsvc = Pipeline([('tfidf', TfidfVectorizer()),\n",
        "                     ('clf', LinearSVC()),\n",
        "])"
      ]
    },
    {
      "cell_type": "markdown",
      "source": [
        "## Multinomial Naive Bayes"
      ],
      "metadata": {
        "id": "fMzyAHvOxQMG"
      },
      "id": "fMzyAHvOxQMG"
    },
    {
      "cell_type": "markdown",
      "source": [
        "In this model we use Count Vectorizer at it performs better considering bigrams, in this sentiemnt analysis considering bigrams like \"not good\" can have a noticible impact."
      ],
      "metadata": {
        "id": "CcUePrbsQV7E"
      },
      "id": "CcUePrbsQV7E"
    },
    {
      "cell_type": "code",
      "execution_count": null,
      "id": "0ce9c94b",
      "metadata": {
        "id": "0ce9c94b",
        "outputId": "7af0b600-fe4d-4a69-d813-e87921f8fe37"
      },
      "outputs": [
        {
          "data": {
            "text/html": [
              "<style>#sk-container-id-1 {color: black;background-color: white;}#sk-container-id-1 pre{padding: 0;}#sk-container-id-1 div.sk-toggleable {background-color: white;}#sk-container-id-1 label.sk-toggleable__label {cursor: pointer;display: block;width: 100%;margin-bottom: 0;padding: 0.3em;box-sizing: border-box;text-align: center;}#sk-container-id-1 label.sk-toggleable__label-arrow:before {content: \"▸\";float: left;margin-right: 0.25em;color: #696969;}#sk-container-id-1 label.sk-toggleable__label-arrow:hover:before {color: black;}#sk-container-id-1 div.sk-estimator:hover label.sk-toggleable__label-arrow:before {color: black;}#sk-container-id-1 div.sk-toggleable__content {max-height: 0;max-width: 0;overflow: hidden;text-align: left;background-color: #f0f8ff;}#sk-container-id-1 div.sk-toggleable__content pre {margin: 0.2em;color: black;border-radius: 0.25em;background-color: #f0f8ff;}#sk-container-id-1 input.sk-toggleable__control:checked~div.sk-toggleable__content {max-height: 200px;max-width: 100%;overflow: auto;}#sk-container-id-1 input.sk-toggleable__control:checked~label.sk-toggleable__label-arrow:before {content: \"▾\";}#sk-container-id-1 div.sk-estimator input.sk-toggleable__control:checked~label.sk-toggleable__label {background-color: #d4ebff;}#sk-container-id-1 div.sk-label input.sk-toggleable__control:checked~label.sk-toggleable__label {background-color: #d4ebff;}#sk-container-id-1 input.sk-hidden--visually {border: 0;clip: rect(1px 1px 1px 1px);clip: rect(1px, 1px, 1px, 1px);height: 1px;margin: -1px;overflow: hidden;padding: 0;position: absolute;width: 1px;}#sk-container-id-1 div.sk-estimator {font-family: monospace;background-color: #f0f8ff;border: 1px dotted black;border-radius: 0.25em;box-sizing: border-box;margin-bottom: 0.5em;}#sk-container-id-1 div.sk-estimator:hover {background-color: #d4ebff;}#sk-container-id-1 div.sk-parallel-item::after {content: \"\";width: 100%;border-bottom: 1px solid gray;flex-grow: 1;}#sk-container-id-1 div.sk-label:hover label.sk-toggleable__label {background-color: #d4ebff;}#sk-container-id-1 div.sk-serial::before {content: \"\";position: absolute;border-left: 1px solid gray;box-sizing: border-box;top: 0;bottom: 0;left: 50%;z-index: 0;}#sk-container-id-1 div.sk-serial {display: flex;flex-direction: column;align-items: center;background-color: white;padding-right: 0.2em;padding-left: 0.2em;position: relative;}#sk-container-id-1 div.sk-item {position: relative;z-index: 1;}#sk-container-id-1 div.sk-parallel {display: flex;align-items: stretch;justify-content: center;background-color: white;position: relative;}#sk-container-id-1 div.sk-item::before, #sk-container-id-1 div.sk-parallel-item::before {content: \"\";position: absolute;border-left: 1px solid gray;box-sizing: border-box;top: 0;bottom: 0;left: 50%;z-index: -1;}#sk-container-id-1 div.sk-parallel-item {display: flex;flex-direction: column;z-index: 1;position: relative;background-color: white;}#sk-container-id-1 div.sk-parallel-item:first-child::after {align-self: flex-end;width: 50%;}#sk-container-id-1 div.sk-parallel-item:last-child::after {align-self: flex-start;width: 50%;}#sk-container-id-1 div.sk-parallel-item:only-child::after {width: 0;}#sk-container-id-1 div.sk-dashed-wrapped {border: 1px dashed gray;margin: 0 0.4em 0.5em 0.4em;box-sizing: border-box;padding-bottom: 0.4em;background-color: white;}#sk-container-id-1 div.sk-label label {font-family: monospace;font-weight: bold;display: inline-block;line-height: 1.2em;}#sk-container-id-1 div.sk-label-container {text-align: center;}#sk-container-id-1 div.sk-container {/* jupyter's `normalize.less` sets `[hidden] { display: none; }` but bootstrap.min.css set `[hidden] { display: none !important; }` so we also need the `!important` here to be able to override the default hidden behavior on the sphinx rendered scikit-learn.org. See: https://github.com/scikit-learn/scikit-learn/issues/21755 */display: inline-block !important;position: relative;}#sk-container-id-1 div.sk-text-repr-fallback {display: none;}</style><div id=\"sk-container-id-1\" class=\"sk-top-container\"><div class=\"sk-text-repr-fallback\"><pre>Pipeline(steps=[(&#x27;cv&#x27;,\n",
              "                 CountVectorizer(ngram_range=(2, 2),\n",
              "                                 stop_words=[&#x27;a&#x27;, &#x27;about&#x27;, &#x27;above&#x27;, &#x27;across&#x27;,\n",
              "                                             &#x27;after&#x27;, &#x27;afterwards&#x27;, &#x27;again&#x27;,\n",
              "                                             &#x27;against&#x27;, &#x27;all&#x27;, &#x27;almost&#x27;,\n",
              "                                             &#x27;alone&#x27;, &#x27;along&#x27;, &#x27;already&#x27;,\n",
              "                                             &#x27;also&#x27;, &#x27;although&#x27;, &#x27;always&#x27;, &#x27;am&#x27;,\n",
              "                                             &#x27;among&#x27;, &#x27;amongst&#x27;, &#x27;amoungst&#x27;,\n",
              "                                             &#x27;amount&#x27;, &#x27;an&#x27;, &#x27;and&#x27;, &#x27;another&#x27;,\n",
              "                                             &#x27;any&#x27;, &#x27;anyhow&#x27;, &#x27;anyone&#x27;,\n",
              "                                             &#x27;anything&#x27;, &#x27;anyway&#x27;, &#x27;anywhere&#x27;, ...],\n",
              "                                 tokenizer=&lt;bound method RegexpTokenizer.tokenize of RegexpTokenizer(pattern=&#x27;[a-zA-Z0-9]+&#x27;, gaps=False, discard_empty=True, flags=re.UNICODE|re.MULTILINE|re.DOTALL)&gt;)),\n",
              "                (&#x27;clf&#x27;, MultinomialNB())])</pre><b>In a Jupyter environment, please rerun this cell to show the HTML representation or trust the notebook. <br />On GitHub, the HTML representation is unable to render, please try loading this page with nbviewer.org.</b></div><div class=\"sk-container\" hidden><div class=\"sk-item sk-dashed-wrapped\"><div class=\"sk-label-container\"><div class=\"sk-label sk-toggleable\"><input class=\"sk-toggleable__control sk-hidden--visually\" id=\"sk-estimator-id-1\" type=\"checkbox\" ><label for=\"sk-estimator-id-1\" class=\"sk-toggleable__label sk-toggleable__label-arrow\">Pipeline</label><div class=\"sk-toggleable__content\"><pre>Pipeline(steps=[(&#x27;cv&#x27;,\n",
              "                 CountVectorizer(ngram_range=(2, 2),\n",
              "                                 stop_words=[&#x27;a&#x27;, &#x27;about&#x27;, &#x27;above&#x27;, &#x27;across&#x27;,\n",
              "                                             &#x27;after&#x27;, &#x27;afterwards&#x27;, &#x27;again&#x27;,\n",
              "                                             &#x27;against&#x27;, &#x27;all&#x27;, &#x27;almost&#x27;,\n",
              "                                             &#x27;alone&#x27;, &#x27;along&#x27;, &#x27;already&#x27;,\n",
              "                                             &#x27;also&#x27;, &#x27;although&#x27;, &#x27;always&#x27;, &#x27;am&#x27;,\n",
              "                                             &#x27;among&#x27;, &#x27;amongst&#x27;, &#x27;amoungst&#x27;,\n",
              "                                             &#x27;amount&#x27;, &#x27;an&#x27;, &#x27;and&#x27;, &#x27;another&#x27;,\n",
              "                                             &#x27;any&#x27;, &#x27;anyhow&#x27;, &#x27;anyone&#x27;,\n",
              "                                             &#x27;anything&#x27;, &#x27;anyway&#x27;, &#x27;anywhere&#x27;, ...],\n",
              "                                 tokenizer=&lt;bound method RegexpTokenizer.tokenize of RegexpTokenizer(pattern=&#x27;[a-zA-Z0-9]+&#x27;, gaps=False, discard_empty=True, flags=re.UNICODE|re.MULTILINE|re.DOTALL)&gt;)),\n",
              "                (&#x27;clf&#x27;, MultinomialNB())])</pre></div></div></div><div class=\"sk-serial\"><div class=\"sk-item\"><div class=\"sk-estimator sk-toggleable\"><input class=\"sk-toggleable__control sk-hidden--visually\" id=\"sk-estimator-id-2\" type=\"checkbox\" ><label for=\"sk-estimator-id-2\" class=\"sk-toggleable__label sk-toggleable__label-arrow\">CountVectorizer</label><div class=\"sk-toggleable__content\"><pre>CountVectorizer(ngram_range=(2, 2),\n",
              "                stop_words=[&#x27;a&#x27;, &#x27;about&#x27;, &#x27;above&#x27;, &#x27;across&#x27;, &#x27;after&#x27;,\n",
              "                            &#x27;afterwards&#x27;, &#x27;again&#x27;, &#x27;against&#x27;, &#x27;all&#x27;, &#x27;almost&#x27;,\n",
              "                            &#x27;alone&#x27;, &#x27;along&#x27;, &#x27;already&#x27;, &#x27;also&#x27;, &#x27;although&#x27;,\n",
              "                            &#x27;always&#x27;, &#x27;am&#x27;, &#x27;among&#x27;, &#x27;amongst&#x27;, &#x27;amoungst&#x27;,\n",
              "                            &#x27;amount&#x27;, &#x27;an&#x27;, &#x27;and&#x27;, &#x27;another&#x27;, &#x27;any&#x27;, &#x27;anyhow&#x27;,\n",
              "                            &#x27;anyone&#x27;, &#x27;anything&#x27;, &#x27;anyway&#x27;, &#x27;anywhere&#x27;, ...],\n",
              "                tokenizer=&lt;bound method RegexpTokenizer.tokenize of RegexpTokenizer(pattern=&#x27;[a-zA-Z0-9]+&#x27;, gaps=False, discard_empty=True, flags=re.UNICODE|re.MULTILINE|re.DOTALL)&gt;)</pre></div></div></div><div class=\"sk-item\"><div class=\"sk-estimator sk-toggleable\"><input class=\"sk-toggleable__control sk-hidden--visually\" id=\"sk-estimator-id-3\" type=\"checkbox\" ><label for=\"sk-estimator-id-3\" class=\"sk-toggleable__label sk-toggleable__label-arrow\">MultinomialNB</label><div class=\"sk-toggleable__content\"><pre>MultinomialNB()</pre></div></div></div></div></div></div></div>"
            ],
            "text/plain": [
              "Pipeline(steps=[('cv',\n",
              "                 CountVectorizer(ngram_range=(2, 2),\n",
              "                                 stop_words=['a', 'about', 'above', 'across',\n",
              "                                             'after', 'afterwards', 'again',\n",
              "                                             'against', 'all', 'almost',\n",
              "                                             'alone', 'along', 'already',\n",
              "                                             'also', 'although', 'always', 'am',\n",
              "                                             'among', 'amongst', 'amoungst',\n",
              "                                             'amount', 'an', 'and', 'another',\n",
              "                                             'any', 'anyhow', 'anyone',\n",
              "                                             'anything', 'anyway', 'anywhere', ...],\n",
              "                                 tokenizer=<bound method RegexpTokenizer.tokenize of RegexpTokenizer(pattern='[a-zA-Z0-9]+', gaps=False, discard_empty=True, flags=re.UNICODE|re.MULTILINE|re.DOTALL)>)),\n",
              "                ('clf', MultinomialNB())])"
            ]
          },
          "execution_count": 60,
          "metadata": {},
          "output_type": "execute_result"
        }
      ],
      "source": [
        "text_clf_nb.fit(x_train, y_train)"
      ]
    },
    {
      "cell_type": "code",
      "execution_count": null,
      "id": "1f3a173e",
      "metadata": {
        "id": "1f3a173e"
      },
      "outputs": [],
      "source": [
        "predictions = text_clf_nb.predict(x_test)"
      ]
    },
    {
      "cell_type": "code",
      "execution_count": null,
      "id": "b0448167",
      "metadata": {
        "id": "b0448167",
        "outputId": "b1040c4a-8fdd-4e63-b12f-ee7411cb24d6"
      },
      "outputs": [
        {
          "name": "stdout",
          "output_type": "stream",
          "text": [
            "[[6449 3081  345   82   43]\n",
            " [2089 5482 2132  245   52]\n",
            " [ 680 2420 5096 1592  212]\n",
            " [ 305  622 2789 4971 1313]\n",
            " [ 488  286  880 3541 4805]]\n"
          ]
        }
      ],
      "source": [
        "# Report the confusion matrix\n",
        "from sklearn import metrics\n",
        "print(metrics.confusion_matrix(y_test,predictions))"
      ]
    },
    {
      "cell_type": "code",
      "source": [
        "cf = metrics.confusion_matrix(y_test,predictions)"
      ],
      "metadata": {
        "id": "waph58CFuDKE"
      },
      "id": "waph58CFuDKE",
      "execution_count": null,
      "outputs": []
    },
    {
      "cell_type": "code",
      "source": [
        "cfm = pd.DataFrame(cf)"
      ],
      "metadata": {
        "id": "5-GhNwICvAIH"
      },
      "id": "5-GhNwICvAIH",
      "execution_count": null,
      "outputs": []
    },
    {
      "cell_type": "code",
      "execution_count": null,
      "id": "0d43a78c",
      "metadata": {
        "id": "0d43a78c",
        "colab": {
          "base_uri": "https://localhost:8080/",
          "height": 319
        },
        "outputId": "0c5803d6-190c-42f0-be3e-72207b31e95c"
      },
      "outputs": [
        {
          "output_type": "execute_result",
          "data": {
            "text/plain": [
              "[Text(0.5, 1.0, 'Naive Bayse')]"
            ]
          },
          "metadata": {},
          "execution_count": 11
        },
        {
          "output_type": "display_data",
          "data": {
            "text/plain": [
              "<Figure size 432x288 with 2 Axes>"
            ],
            "image/png": "[encoded data removed]"
          },
          "metadata": {
            "needs_background": "light"
          }
        }
      ],
      "source": [
        "sns.heatmap(cfm/np.sum(cfm), annot=True, fmt='.2%', cmap='spring').set(title='Naive Bayse')"
      ]
    },
    {
      "cell_type": "code",
      "execution_count": null,
      "id": "071296c1",
      "metadata": {
        "id": "071296c1",
        "outputId": "affccb1d-e363-4684-ca18-10c3406e2b99"
      },
      "outputs": [
        {
          "name": "stdout",
          "output_type": "stream",
          "text": [
            "              precision    recall  f1-score   support\n",
            "\n",
            "           1       0.64      0.64      0.64     10000\n",
            "           2       0.46      0.55      0.50     10000\n",
            "           3       0.45      0.51      0.48     10000\n",
            "           4       0.48      0.50      0.49     10000\n",
            "           5       0.75      0.48      0.59     10000\n",
            "\n",
            "    accuracy                           0.54     50000\n",
            "   macro avg       0.56      0.54      0.54     50000\n",
            "weighted avg       0.56      0.54      0.54     50000\n",
            "\n"
          ]
        }
      ],
      "source": [
        "print(metrics.classification_report(y_test,predictions))"
      ]
    },
    {
      "cell_type": "code",
      "execution_count": null,
      "id": "39b2fd10",
      "metadata": {
        "id": "39b2fd10",
        "outputId": "58c26ede-52a0-4f49-fa17-6f1f6dd3ccbb"
      },
      "outputs": [
        {
          "name": "stdout",
          "output_type": "stream",
          "text": [
            "0.53606\n"
          ]
        }
      ],
      "source": [
        "print(metrics.accuracy_score(y_test,predictions))"
      ]
    },
    {
      "cell_type": "markdown",
      "id": "52762ea8",
      "metadata": {
        "id": "52762ea8"
      },
      "source": [
        "## Linear SVC"
      ]
    },
    {
      "cell_type": "markdown",
      "source": [
        "In this other simple model we have noticed that tf-idf performs better."
      ],
      "metadata": {
        "id": "jPTP69DRQgcf"
      },
      "id": "jPTP69DRQgcf"
    },
    {
      "cell_type": "code",
      "execution_count": null,
      "id": "cc9d057f",
      "metadata": {
        "id": "cc9d057f",
        "outputId": "104a1adc-ca5f-46fe-f90f-2290d7dbbf1a"
      },
      "outputs": [
        {
          "data": {
            "text/html": [
              "<style>#sk-container-id-2 {color: black;background-color: white;}#sk-container-id-2 pre{padding: 0;}#sk-container-id-2 div.sk-toggleable {background-color: white;}#sk-container-id-2 label.sk-toggleable__label {cursor: pointer;display: block;width: 100%;margin-bottom: 0;padding: 0.3em;box-sizing: border-box;text-align: center;}#sk-container-id-2 label.sk-toggleable__label-arrow:before {content: \"▸\";float: left;margin-right: 0.25em;color: #696969;}#sk-container-id-2 label.sk-toggleable__label-arrow:hover:before {color: black;}#sk-container-id-2 div.sk-estimator:hover label.sk-toggleable__label-arrow:before {color: black;}#sk-container-id-2 div.sk-toggleable__content {max-height: 0;max-width: 0;overflow: hidden;text-align: left;background-color: #f0f8ff;}#sk-container-id-2 div.sk-toggleable__content pre {margin: 0.2em;color: black;border-radius: 0.25em;background-color: #f0f8ff;}#sk-container-id-2 input.sk-toggleable__control:checked~div.sk-toggleable__content {max-height: 200px;max-width: 100%;overflow: auto;}#sk-container-id-2 input.sk-toggleable__control:checked~label.sk-toggleable__label-arrow:before {content: \"▾\";}#sk-container-id-2 div.sk-estimator input.sk-toggleable__control:checked~label.sk-toggleable__label {background-color: #d4ebff;}#sk-container-id-2 div.sk-label input.sk-toggleable__control:checked~label.sk-toggleable__label {background-color: #d4ebff;}#sk-container-id-2 input.sk-hidden--visually {border: 0;clip: rect(1px 1px 1px 1px);clip: rect(1px, 1px, 1px, 1px);height: 1px;margin: -1px;overflow: hidden;padding: 0;position: absolute;width: 1px;}#sk-container-id-2 div.sk-estimator {font-family: monospace;background-color: #f0f8ff;border: 1px dotted black;border-radius: 0.25em;box-sizing: border-box;margin-bottom: 0.5em;}#sk-container-id-2 div.sk-estimator:hover {background-color: #d4ebff;}#sk-container-id-2 div.sk-parallel-item::after {content: \"\";width: 100%;border-bottom: 1px solid gray;flex-grow: 1;}#sk-container-id-2 div.sk-label:hover label.sk-toggleable__label {background-color: #d4ebff;}#sk-container-id-2 div.sk-serial::before {content: \"\";position: absolute;border-left: 1px solid gray;box-sizing: border-box;top: 0;bottom: 0;left: 50%;z-index: 0;}#sk-container-id-2 div.sk-serial {display: flex;flex-direction: column;align-items: center;background-color: white;padding-right: 0.2em;padding-left: 0.2em;position: relative;}#sk-container-id-2 div.sk-item {position: relative;z-index: 1;}#sk-container-id-2 div.sk-parallel {display: flex;align-items: stretch;justify-content: center;background-color: white;position: relative;}#sk-container-id-2 div.sk-item::before, #sk-container-id-2 div.sk-parallel-item::before {content: \"\";position: absolute;border-left: 1px solid gray;box-sizing: border-box;top: 0;bottom: 0;left: 50%;z-index: -1;}#sk-container-id-2 div.sk-parallel-item {display: flex;flex-direction: column;z-index: 1;position: relative;background-color: white;}#sk-container-id-2 div.sk-parallel-item:first-child::after {align-self: flex-end;width: 50%;}#sk-container-id-2 div.sk-parallel-item:last-child::after {align-self: flex-start;width: 50%;}#sk-container-id-2 div.sk-parallel-item:only-child::after {width: 0;}#sk-container-id-2 div.sk-dashed-wrapped {border: 1px dashed gray;margin: 0 0.4em 0.5em 0.4em;box-sizing: border-box;padding-bottom: 0.4em;background-color: white;}#sk-container-id-2 div.sk-label label {font-family: monospace;font-weight: bold;display: inline-block;line-height: 1.2em;}#sk-container-id-2 div.sk-label-container {text-align: center;}#sk-container-id-2 div.sk-container {/* jupyter's `normalize.less` sets `[hidden] { display: none; }` but bootstrap.min.css set `[hidden] { display: none !important; }` so we also need the `!important` here to be able to override the default hidden behavior on the sphinx rendered scikit-learn.org. See: https://github.com/scikit-learn/scikit-learn/issues/21755 */display: inline-block !important;position: relative;}#sk-container-id-2 div.sk-text-repr-fallback {display: none;}</style><div id=\"sk-container-id-2\" class=\"sk-top-container\"><div class=\"sk-text-repr-fallback\"><pre>Pipeline(steps=[(&#x27;tfidf&#x27;, TfidfVectorizer()), (&#x27;clf&#x27;, LinearSVC())])</pre><b>In a Jupyter environment, please rerun this cell to show the HTML representation or trust the notebook. <br />On GitHub, the HTML representation is unable to render, please try loading this page with nbviewer.org.</b></div><div class=\"sk-container\" hidden><div class=\"sk-item sk-dashed-wrapped\"><div class=\"sk-label-container\"><div class=\"sk-label sk-toggleable\"><input class=\"sk-toggleable__control sk-hidden--visually\" id=\"sk-estimator-id-4\" type=\"checkbox\" ><label for=\"sk-estimator-id-4\" class=\"sk-toggleable__label sk-toggleable__label-arrow\">Pipeline</label><div class=\"sk-toggleable__content\"><pre>Pipeline(steps=[(&#x27;tfidf&#x27;, TfidfVectorizer()), (&#x27;clf&#x27;, LinearSVC())])</pre></div></div></div><div class=\"sk-serial\"><div class=\"sk-item\"><div class=\"sk-estimator sk-toggleable\"><input class=\"sk-toggleable__control sk-hidden--visually\" id=\"sk-estimator-id-5\" type=\"checkbox\" ><label for=\"sk-estimator-id-5\" class=\"sk-toggleable__label sk-toggleable__label-arrow\">TfidfVectorizer</label><div class=\"sk-toggleable__content\"><pre>TfidfVectorizer()</pre></div></div></div><div class=\"sk-item\"><div class=\"sk-estimator sk-toggleable\"><input class=\"sk-toggleable__control sk-hidden--visually\" id=\"sk-estimator-id-6\" type=\"checkbox\" ><label for=\"sk-estimator-id-6\" class=\"sk-toggleable__label sk-toggleable__label-arrow\">LinearSVC</label><div class=\"sk-toggleable__content\"><pre>LinearSVC()</pre></div></div></div></div></div></div></div>"
            ],
            "text/plain": [
              "Pipeline(steps=[('tfidf', TfidfVectorizer()), ('clf', LinearSVC())])"
            ]
          },
          "execution_count": 68,
          "metadata": {},
          "output_type": "execute_result"
        }
      ],
      "source": [
        "text_clf_lsvc.fit(x_train, y_train)"
      ]
    },
    {
      "cell_type": "code",
      "execution_count": null,
      "id": "f832e4f3",
      "metadata": {
        "id": "f832e4f3"
      },
      "outputs": [],
      "source": [
        "predictions = text_clf_lsvc.predict(x_test)"
      ]
    },
    {
      "cell_type": "code",
      "execution_count": null,
      "id": "69eed468",
      "metadata": {
        "id": "69eed468",
        "outputId": "42256b0d-94e8-4e43-b5b3-e213531b846c"
      },
      "outputs": [
        {
          "name": "stdout",
          "output_type": "stream",
          "text": [
            "[[7593 1767  333  112  195]\n",
            " [2742 4497 2003  468  290]\n",
            " [ 708 2161 4194 2198  739]\n",
            " [ 223  494 1892 4362 3029]\n",
            " [ 208  181  447 2089 7075]]\n"
          ]
        }
      ],
      "source": [
        "# Report the confusion matrix\n",
        "from sklearn import metrics\n",
        "print(metrics.confusion_matrix(y_test,predictions))"
      ]
    },
    {
      "cell_type": "code",
      "source": [
        "cf = metrics.confusion_matrix(y_test,predictions)"
      ],
      "metadata": {
        "id": "E__5jA7awG4F"
      },
      "id": "E__5jA7awG4F",
      "execution_count": null,
      "outputs": []
    },
    {
      "cell_type": "code",
      "execution_count": null,
      "id": "d25aa911",
      "metadata": {
        "id": "d25aa911",
        "outputId": "ba88af0c-bc42-4375-d18c-ea7939580aa7",
        "colab": {
          "base_uri": "https://localhost:8080/",
          "height": 319
        }
      },
      "outputs": [
        {
          "output_type": "execute_result",
          "data": {
            "text/plain": [
              "[Text(0.5, 1.0, 'Linear SVC')]"
            ]
          },
          "metadata": {},
          "execution_count": 17
        },
        {
          "output_type": "display_data",
          "data": {
            "text/plain": [
              "<Figure size 432x288 with 2 Axes>"
            ],
            "image/png": "[encoded data removed]"
          },
          "metadata": {
            "needs_background": "light"
          }
        }
      ],
      "source": [
        "sns.heatmap(cf/np.sum(cf), annot=True, fmt='.2%', cmap='spring').set(title='Linear SVC')"
      ]
    },
    {
      "cell_type": "code",
      "execution_count": null,
      "id": "5307a15f",
      "metadata": {
        "id": "5307a15f",
        "outputId": "101cee09-142d-4036-fca1-171a41571035"
      },
      "outputs": [
        {
          "name": "stdout",
          "output_type": "stream",
          "text": [
            "              precision    recall  f1-score   support\n",
            "\n",
            "           1       0.66      0.76      0.71     10000\n",
            "           2       0.49      0.45      0.47     10000\n",
            "           3       0.47      0.42      0.44     10000\n",
            "           4       0.47      0.44      0.45     10000\n",
            "           5       0.62      0.71      0.66     10000\n",
            "\n",
            "    accuracy                           0.55     50000\n",
            "   macro avg       0.55      0.55      0.55     50000\n",
            "weighted avg       0.55      0.55      0.55     50000\n",
            "\n"
          ]
        }
      ],
      "source": [
        "# Print a classification report\n",
        "print(metrics.classification_report(y_test,predictions))"
      ]
    },
    {
      "cell_type": "code",
      "execution_count": null,
      "id": "9749ebf2",
      "metadata": {
        "id": "9749ebf2",
        "outputId": "e332bba7-96f9-458f-ae01-1acb87b5adc9"
      },
      "outputs": [
        {
          "name": "stdout",
          "output_type": "stream",
          "text": [
            "0.55442\n"
          ]
        }
      ],
      "source": [
        "# Print the overall accuracy\n",
        "print(metrics.accuracy_score(y_test,predictions))"
      ]
    },
    {
      "cell_type": "markdown",
      "id": "36b09a1d",
      "metadata": {
        "id": "36b09a1d"
      },
      "source": [
        "# **VADER**"
      ]
    },
    {
      "cell_type": "markdown",
      "source": [
        "Valence Aware Dictionary for sEntiment Reasoning is a model used for sentiment analysis on unlabeled data. The results obtained in this section are a benchmark for next models that will rely on RNN methods. We perform this analisys only on the test.  "
      ],
      "metadata": {
        "id": "T-ngSwMXyuDm"
      },
      "id": "T-ngSwMXyuDm"
    },
    {
      "cell_type": "code",
      "source": [
        "nltk.download('vader_lexicon')"
      ],
      "metadata": {
        "colab": {
          "base_uri": "https://localhost:8080/"
        },
        "id": "tLF3TTYxXCdR",
        "outputId": "f55d7528-132e-4c1e-808d-3e7a962a1896"
      },
      "id": "tLF3TTYxXCdR",
      "execution_count": null,
      "outputs": [
        {
          "output_type": "stream",
          "name": "stderr",
          "text": [
            "[nltk_data] Downloading package vader_lexicon to /root/nltk_data...\n",
            "[nltk_data]   Package vader_lexicon is already up-to-date!\n"
          ]
        },
        {
          "output_type": "execute_result",
          "data": {
            "text/plain": [
              "True"
            ]
          },
          "metadata": {},
          "execution_count": 54
        }
      ]
    },
    {
      "cell_type": "code",
      "execution_count": null,
      "id": "6815ca5e",
      "metadata": {
        "id": "6815ca5e"
      },
      "outputs": [],
      "source": [
        "def lab(x):\n",
        "\n",
        "    if x<3:\n",
        "        x = 'neg'\n",
        "    else:\n",
        "        x = 'pos'\n",
        "    return x"
      ]
    },
    {
      "cell_type": "code",
      "execution_count": null,
      "id": "b99bdc99",
      "metadata": {
        "id": "b99bdc99"
      },
      "outputs": [],
      "source": [
        "test['label4VADER'] = test['rate'].apply(lab)"
      ]
    },
    {
      "cell_type": "code",
      "execution_count": null,
      "id": "0e5dacaf",
      "metadata": {
        "id": "0e5dacaf"
      },
      "outputs": [],
      "source": [
        "from nltk.sentiment.vader import SentimentIntensityAnalyzer\n",
        "\n",
        "sid = SentimentIntensityAnalyzer()"
      ]
    },
    {
      "cell_type": "code",
      "execution_count": null,
      "id": "aac4f285",
      "metadata": {
        "id": "aac4f285"
      },
      "outputs": [],
      "source": [
        "test['scores'] = test['review'].apply(lambda review: sid.polarity_scores(review))"
      ]
    },
    {
      "cell_type": "code",
      "execution_count": null,
      "id": "75208ef1",
      "metadata": {
        "id": "75208ef1"
      },
      "outputs": [],
      "source": [
        "test['compound']  = test['scores'].apply(lambda score_dict: score_dict['compound'])"
      ]
    },
    {
      "cell_type": "code",
      "execution_count": null,
      "id": "ea2c6a33",
      "metadata": {
        "id": "ea2c6a33"
      },
      "outputs": [],
      "source": [
        "test['comp_score'] = test['compound'].apply(lambda c: 'pos' if c >=0 else 'neg')"
      ]
    },
    {
      "cell_type": "code",
      "execution_count": null,
      "id": "6b5a37b9",
      "metadata": {
        "id": "6b5a37b9",
        "outputId": "4e882406-ae01-4065-a3ac-335651b195ca",
        "colab": {
          "base_uri": "https://localhost:8080/",
          "height": 272
        }
      },
      "outputs": [
        {
          "output_type": "execute_result",
          "data": {
            "text/plain": [
              "   rate                                             review label4VADER  \\\n",
              "0     1  I got 'new' tires from them and within two wee...         neg   \n",
              "1     1  Don't waste your time. We had two different pe...         neg   \n",
              "2     1  All I can say is the worst! We were the only 2...         neg   \n",
              "3     1  I have been to this restaurant twice and was d...         neg   \n",
              "4     1  Food was NOT GOOD at all! My husband & I ate h...         neg   \n",
              "\n",
              "                                              scores  compound comp_score  \n",
              "0  {'neg': 0.067, 'neu': 0.933, 'pos': 0.0, 'comp...   -0.8951        neg  \n",
              "1  {'neg': 0.0, 'neu': 0.939, 'pos': 0.061, 'comp...    0.3252        pos  \n",
              "2  {'neg': 0.092, 'neu': 0.853, 'pos': 0.055, 'co...   -0.7697        neg  \n",
              "3  {'neg': 0.137, 'neu': 0.833, 'pos': 0.031, 'co...   -0.9645        neg  \n",
              "4  {'neg': 0.13, 'neu': 0.825, 'pos': 0.044, 'com...   -0.9392        neg  "
            ],
            "text/html": [
              "\n",
              "  <div id=\"df-7ea8f5fe-8d1b-4b13-8aeb-230be3d0dea3\">\n",
              "    <div class=\"colab-df-container\">\n",
              "      <div>\n",
              "<style scoped>\n",
              "    .dataframe tbody tr th:only-of-type {\n",
              "        vertical-align: middle;\n",
              "    }\n",
              "\n",
              "    .dataframe tbody tr th {\n",
              "        vertical-align: top;\n",
              "    }\n",
              "\n",
              "    .dataframe thead th {\n",
              "        text-align: right;\n",
              "    }\n",
              "</style>\n",
              "<table border=\"1\" class=\"dataframe\">\n",
              "  <thead>\n",
              "    <tr style=\"text-align: right;\">\n",
              "      <th></th>\n",
              "      <th>rate</th>\n",
              "      <th>review</th>\n",
              "      <th>label4VADER</th>\n",
              "      <th>scores</th>\n",
              "      <th>compound</th>\n",
              "      <th>comp_score</th>\n",
              "    </tr>\n",
              "  </thead>\n",
              "  <tbody>\n",
              "    <tr>\n",
              "      <th>0</th>\n",
              "      <td>1</td>\n",
              "      <td>I got 'new' tires from them and within two wee...</td>\n",
              "      <td>neg</td>\n",
              "      <td>{'neg': 0.067, 'neu': 0.933, 'pos': 0.0, 'comp...</td>\n",
              "      <td>-0.8951</td>\n",
              "      <td>neg</td>\n",
              "    </tr>\n",
              "    <tr>\n",
              "      <th>1</th>\n",
              "      <td>1</td>\n",
              "      <td>Don't waste your time. We had two different pe...</td>\n",
              "      <td>neg</td>\n",
              "      <td>{'neg': 0.0, 'neu': 0.939, 'pos': 0.061, 'comp...</td>\n",
              "      <td>0.3252</td>\n",
              "      <td>pos</td>\n",
              "    </tr>\n",
              "    <tr>\n",
              "      <th>2</th>\n",
              "      <td>1</td>\n",
              "      <td>All I can say is the worst! We were the only 2...</td>\n",
              "      <td>neg</td>\n",
              "      <td>{'neg': 0.092, 'neu': 0.853, 'pos': 0.055, 'co...</td>\n",
              "      <td>-0.7697</td>\n",
              "      <td>neg</td>\n",
              "    </tr>\n",
              "    <tr>\n",
              "      <th>3</th>\n",
              "      <td>1</td>\n",
              "      <td>I have been to this restaurant twice and was d...</td>\n",
              "      <td>neg</td>\n",
              "      <td>{'neg': 0.137, 'neu': 0.833, 'pos': 0.031, 'co...</td>\n",
              "      <td>-0.9645</td>\n",
              "      <td>neg</td>\n",
              "    </tr>\n",
              "    <tr>\n",
              "      <th>4</th>\n",
              "      <td>1</td>\n",
              "      <td>Food was NOT GOOD at all! My husband &amp; I ate h...</td>\n",
              "      <td>neg</td>\n",
              "      <td>{'neg': 0.13, 'neu': 0.825, 'pos': 0.044, 'com...</td>\n",
              "      <td>-0.9392</td>\n",
              "      <td>neg</td>\n",
              "    </tr>\n",
              "  </tbody>\n",
              "</table>\n",
              "</div>\n",
              "      <button class=\"colab-df-convert\" onclick=\"convertToInteractive('df-7ea8f5fe-8d1b-4b13-8aeb-230be3d0dea3')\"\n",
              "              title=\"Convert this dataframe to an interactive table.\"\n",
              "              style=\"display:none;\">\n",
              "        \n",
              "  <svg xmlns=\"http://www.w3.org/2000/svg\" height=\"24px\"viewBox=\"0 0 24 24\"\n",
              "       width=\"24px\">\n",
              "    <path d=\"M0 0h24v24H0V0z\" fill=\"none\"/>\n",
              "    <path d=\"M18.56 5.44l.94 2.06.94-2.06 2.06-.94-2.06-.94-.94-2.06-.94 2.06-2.06.94zm-11 1L8.5 8.5l.94-2.06 2.06-.94-2.06-.94L8.5 2.5l-.94 2.06-2.06.94zm10 10l.94 2.06.94-2.06 2.06-.94-2.06-.94-.94-2.06-.94 2.06-2.06.94z\"/><path d=\"M17.41 7.96l-1.37-1.37c-.4-.4-.92-.59-1.43-.59-.52 0-1.04.2-1.43.59L10.3 9.45l-7.72 7.72c-.78.78-.78 2.05 0 2.83L4 21.41c.39.39.9.59 1.41.59.51 0 1.02-.2 1.41-.59l7.78-7.78 2.81-2.81c.8-.78.8-2.07 0-2.86zM5.41 20L4 18.59l7.72-7.72 1.47 1.35L5.41 20z\"/>\n",
              "  </svg>\n",
              "      </button>\n",
              "      \n",
              "  <style>\n",
              "    .colab-df-container {\n",
              "      display:flex;\n",
              "      flex-wrap:wrap;\n",
              "      gap: 12px;\n",
              "    }\n",
              "\n",
              "    .colab-df-convert {\n",
              "      background-color: #E8F0FE;\n",
              "      border: none;\n",
              "      border-radius: 50%;\n",
              "      cursor: pointer;\n",
              "      display: none;\n",
              "      fill: #1967D2;\n",
              "      height: 32px;\n",
              "      padding: 0 0 0 0;\n",
              "      width: 32px;\n",
              "    }\n",
              "\n",
              "    .colab-df-convert:hover {\n",
              "      background-color: #E2EBFA;\n",
              "      box-shadow: 0px 1px 2px rgba(60, 64, 67, 0.3), 0px 1px 3px 1px rgba(60, 64, 67, 0.15);\n",
              "      fill: #174EA6;\n",
              "    }\n",
              "\n",
              "    [theme=dark] .colab-df-convert {\n",
              "      background-color: #3B4455;\n",
              "      fill: #D2E3FC;\n",
              "    }\n",
              "\n",
              "    [theme=dark] .colab-df-convert:hover {\n",
              "      background-color: #434B5C;\n",
              "      box-shadow: 0px 1px 3px 1px rgba(0, 0, 0, 0.15);\n",
              "      filter: drop-shadow(0px 1px 2px rgba(0, 0, 0, 0.3));\n",
              "      fill: #FFFFFF;\n",
              "    }\n",
              "  </style>\n",
              "\n",
              "      <script>\n",
              "        const buttonEl =\n",
              "          document.querySelector('#df-7ea8f5fe-8d1b-4b13-8aeb-230be3d0dea3 button.colab-df-convert');\n",
              "        buttonEl.style.display =\n",
              "          google.colab.kernel.accessAllowed ? 'block' : 'none';\n",
              "\n",
              "        async function convertToInteractive(key) {\n",
              "          const element = document.querySelector('#df-7ea8f5fe-8d1b-4b13-8aeb-230be3d0dea3');\n",
              "          const dataTable =\n",
              "            await google.colab.kernel.invokeFunction('convertToInteractive',\n",
              "                                                     [key], {});\n",
              "          if (!dataTable) return;\n",
              "\n",
              "          const docLinkHtml = 'Like what you see? Visit the ' +\n",
              "            '<a target=\"_blank\" href=https://colab.research.google.com/notebooks/data_table.ipynb>data table notebook</a>'\n",
              "            + ' to learn more about interactive tables.';\n",
              "          element.innerHTML = '';\n",
              "          dataTable['output_type'] = 'display_data';\n",
              "          await google.colab.output.renderOutput(dataTable, element);\n",
              "          const docLink = document.createElement('div');\n",
              "          docLink.innerHTML = docLinkHtml;\n",
              "          element.appendChild(docLink);\n",
              "        }\n",
              "      </script>\n",
              "    </div>\n",
              "  </div>\n",
              "  "
            ]
          },
          "metadata": {},
          "execution_count": 62
        }
      ],
      "source": [
        "test.head()"
      ]
    },
    {
      "cell_type": "code",
      "execution_count": null,
      "id": "b00fee7d",
      "metadata": {
        "id": "b00fee7d"
      },
      "outputs": [],
      "source": [
        "from sklearn.metrics import accuracy_score,classification_report,confusion_matrix"
      ]
    },
    {
      "cell_type": "code",
      "execution_count": null,
      "id": "b0f355ef",
      "metadata": {
        "id": "b0f355ef",
        "outputId": "76653908-7654-41a4-9751-5820e8a90c61",
        "colab": {
          "base_uri": "https://localhost:8080/"
        }
      },
      "outputs": [
        {
          "output_type": "execute_result",
          "data": {
            "text/plain": [
              "0.74086"
            ]
          },
          "metadata": {},
          "execution_count": 64
        }
      ],
      "source": [
        "accuracy_score(test['label4VADER'],test['comp_score'])"
      ]
    },
    {
      "cell_type": "markdown",
      "id": "dce86c62",
      "metadata": {
        "id": "dce86c62"
      },
      "source": [
        "<img src= \"https://media.giphy.com/media/l46C93LNM33JJ1SMw/giphy.gif\">"
      ]
    },
    {
      "cell_type": "code",
      "execution_count": null,
      "id": "4629d1ad",
      "metadata": {
        "id": "4629d1ad",
        "outputId": "675436ed-76d3-42f7-de1b-72a95ce0eb7b",
        "colab": {
          "base_uri": "https://localhost:8080/"
        }
      },
      "outputs": [
        {
          "output_type": "stream",
          "name": "stdout",
          "text": [
            "              precision    recall  f1-score   support\n",
            "\n",
            "         neg       0.84      0.43      0.57    260000\n",
            "         pos       0.71      0.95      0.81    390000\n",
            "\n",
            "    accuracy                           0.74    650000\n",
            "   macro avg       0.78      0.69      0.69    650000\n",
            "weighted avg       0.76      0.74      0.72    650000\n",
            "\n"
          ]
        }
      ],
      "source": [
        "print(classification_report(train['label4VADER'],train['comp_score']))"
      ]
    },
    {
      "cell_type": "code",
      "execution_count": null,
      "id": "57634008",
      "metadata": {
        "id": "57634008",
        "outputId": "aaea95b5-98d2-44d0-f3d6-2f866e6fff8a",
        "colab": {
          "base_uri": "https://localhost:8080/"
        }
      },
      "outputs": [
        {
          "output_type": "stream",
          "name": "stdout",
          "text": [
            "[[112218 147782]\n",
            " [ 21304 368696]]\n"
          ]
        }
      ],
      "source": [
        "print(confusion_matrix(train['label4VADER'],train['comp_score']))"
      ]
    },
    {
      "cell_type": "code",
      "execution_count": null,
      "id": "79488e13",
      "metadata": {
        "id": "79488e13",
        "outputId": "b2a33b90-d754-4228-df42-e48b60046bf4",
        "colab": {
          "base_uri": "https://localhost:8080/",
          "height": 319
        }
      },
      "outputs": [
        {
          "output_type": "execute_result",
          "data": {
            "text/plain": [
              "[Text(0.5, 1.0, 'VADER')]"
            ]
          },
          "metadata": {},
          "execution_count": 67
        },
        {
          "output_type": "display_data",
          "data": {
            "text/plain": [
              "<Figure size 432x288 with 2 Axes>"
            ],
            "image/png": "[encoded data removed]"
          },
          "metadata": {
            "needs_background": "light"
          }
        }
      ],
      "source": [
        "cf=confusion_matrix(train['label4VADER'],train['comp_score'])\n",
        "\n",
        "group_names = ['True Neg','False Pos','False Neg','True Pos']\n",
        "group_counts = [\"{0:0.0f}\".format(value) for value in\n",
        "                cf.flatten()]\n",
        "group_percentages = [\"{0:.2%}\".format(value) for value in\n",
        "                     cf.flatten()/np.sum(cf)]\n",
        "labels = [f\"{v1}\\n{v2}\\n{v3}\" for v1, v2, v3 in\n",
        "          zip(group_names,group_counts,group_percentages)]\n",
        "labels = np.asarray(labels).reshape(2,2)\n",
        "sns.heatmap(cf, annot=labels, fmt='', cmap='cool').set(title='VADER')"
      ]
    },
    {
      "cell_type": "markdown",
      "source": [
        "# **RECURSIVE NEURAL NETWORK**"
      ],
      "metadata": {
        "id": "tGyKfKz-9Jdy"
      },
      "id": "tGyKfKz-9Jdy"
    },
    {
      "cell_type": "markdown",
      "source": [
        "## Libraries"
      ],
      "metadata": {
        "id": "HVRLOGSehu3r"
      },
      "id": "HVRLOGSehu3r"
    },
    {
      "cell_type": "code",
      "source": [
        "!pip install seqeval\n",
        "\n",
        "import keras\n",
        "%matplotlib inline\n",
        "import tensorflow as tf\n",
        "from tensorflow.keras.models import Sequential\n",
        "from sklearn.model_selection import train_test_split\n",
        "from tensorflow.keras.preprocessing.text import Tokenizer\n",
        "from tensorflow.keras.preprocessing.sequence import pad_sequences\n",
        "from tensorflow.keras.layers import Embedding, LSTM, Flatten, Dense\n",
        "from keras.layers import LSTM, Activation, Dropout, Dense, Input\n",
        "from tensorflow.keras.layers import Embedding\n",
        "from keras.models import Model\n",
        "from sklearn.preprocessing import LabelBinarizer\n",
        "from sklearn.model_selection import train_test_split\n",
        "from tqdm import tqdm\n",
        "from keras.layers import GlobalMaxPooling1D, Conv1D, MaxPooling1D, Flatten, Bidirectional, SpatialDropout1D, GRU, SimpleRNN\n",
        "from keras.layers.core import Dense, Activation, Dropout"
      ],
      "metadata": {
        "colab": {
          "base_uri": "https://localhost:8080/"
        },
        "id": "pxb9AxZQoPWE",
        "outputId": "a2ca9096-8c67-4dde-a342-eb8e72dcc071"
      },
      "execution_count": null,
      "outputs": [
        {
          "output_type": "stream",
          "name": "stdout",
          "text": [
            "Looking in indexes: https://pypi.org/simple, https://us-python.pkg.dev/colab-wheels/public/simple/\n",
            "Collecting seqeval\n",
            "  Downloading seqeval-1.2.2.tar.gz (43 kB)\n",
            "\u001b[K     |████████████████████████████████| 43 kB 1.4 MB/s \n",
            "\u001b[?25hRequirement already satisfied: numpy>=1.14.0 in /usr/local/lib/python3.8/dist-packages (from seqeval) (1.21.6)\n",
            "Requirement already satisfied: scikit-learn>=0.21.3 in /usr/local/lib/python3.8/dist-packages (from seqeval) (1.0.2)\n",
            "Requirement already satisfied: threadpoolctl>=2.0.0 in /usr/local/lib/python3.8/dist-packages (from scikit-learn>=0.21.3->seqeval) (3.1.0)\n",
            "Requirement already satisfied: scipy>=1.1.0 in /usr/local/lib/python3.8/dist-packages (from scikit-learn>=0.21.3->seqeval) (1.7.3)\n",
            "Requirement already satisfied: joblib>=0.11 in /usr/local/lib/python3.8/dist-packages (from scikit-learn>=0.21.3->seqeval) (1.2.0)\n",
            "Building wheels for collected packages: seqeval\n",
            "  Building wheel for seqeval (setup.py) ... \u001b[?25l\u001b[?25hdone\n",
            "  Created wheel for seqeval: filename=seqeval-1.2.2-py3-none-any.whl size=16179 sha256=54328d1ec9096c3dcdc12ae609115f1047b4cf65ce4fc5fb847032cd4f43a473\n",
            "  Stored in directory: /root/.cache/pip/wheels/ad/5c/ba/05fa33fa5855777b7d686e843ec07452f22a66a138e290e732\n",
            "Successfully built seqeval\n",
            "Installing collected packages: seqeval\n",
            "Successfully installed seqeval-1.2.2\n"
          ]
        }
      ],
      "id": "pxb9AxZQoPWE"
    },
    {
      "cell_type": "markdown",
      "source": [
        "## WORD EMBEDDING"
      ],
      "metadata": {
        "id": "-aqO9LQQBLST"
      },
      "id": "-aqO9LQQBLST"
    },
    {
      "cell_type": "markdown",
      "source": [
        " GloVe will be applied as  word embedding technique to emphasize co-occurrences of words.\n",
        " Even if word2vec should faster and esier to impelment we decide to use GloVe in order to mantain some relevant information included in the text."
      ],
      "metadata": {
        "id": "yO6smrx6CZkt"
      },
      "id": "yO6smrx6CZkt"
    },
    {
      "cell_type": "code",
      "source": [
        "x_train =  train['new_review']\n",
        "x_test = test['new_review']"
      ],
      "metadata": {
        "id": "FAIZCEJS_gZv"
      },
      "execution_count": null,
      "outputs": [],
      "id": "FAIZCEJS_gZv"
    },
    {
      "cell_type": "code",
      "source": [
        "y_train_d = pd.get_dummies(train['rate']).values\n",
        "y_test_d = pd.get_dummies(test['rate']).values"
      ],
      "metadata": {
        "id": "0NRV9xRD_gT4"
      },
      "execution_count": null,
      "outputs": [],
      "id": "0NRV9xRD_gT4"
    },
    {
      "cell_type": "code",
      "source": [
        "tokenizer = Tokenizer(num_words = 10000) #anche se il numero sarà sicuramnete maggiore il tokenizer prenderà in considerazione solo i 10000 più frequenti\n",
        "\n",
        "tokenizer.fit_on_texts(x_train) #.values = array con solo le recensioni separate da una virgola"
      ],
      "metadata": {
        "id": "guSv3U1TF1xD"
      },
      "execution_count": null,
      "outputs": [],
      "id": "guSv3U1TF1xD"
    },
    {
      "cell_type": "code",
      "source": [
        "len(tokenizer.word_index) #numero di token"
      ],
      "metadata": {
        "colab": {
          "base_uri": "https://localhost:8080/"
        },
        "id": "51SKUK-7F5AI",
        "outputId": "cc0311c9-2f5e-4490-93a8-bf690d6115d6"
      },
      "execution_count": null,
      "outputs": [
        {
          "output_type": "execute_result",
          "data": {
            "text/plain": [
              "764540"
            ]
          },
          "metadata": {},
          "execution_count": 49
        }
      ],
      "id": "51SKUK-7F5AI"
    },
    {
      "cell_type": "code",
      "source": [
        "\n",
        "\n",
        "x_train = tokenizer.texts_to_sequences(x_train) #Tokenizer of TRAIN\n",
        "x_test = tokenizer.texts_to_sequences(x_test) #Tokenizer of TEST"
      ],
      "metadata": {
        "id": "hvgKOp4B_gLc"
      },
      "execution_count": null,
      "outputs": [],
      "id": "hvgKOp4B_gLc"
    },
    {
      "cell_type": "code",
      "source": [],
      "metadata": {
        "id": "QG7QfUbo9syR"
      },
      "id": "QG7QfUbo9syR",
      "execution_count": null,
      "outputs": []
    },
    {
      "cell_type": "code",
      "source": [
        "\n",
        "# Find out how the lenght of the review is distributed\n",
        "\n",
        "sequence_len = np.array([len(s) for s in x_train])\n",
        "print([(str(new_p) + '%', np.percentile(sequence_len, new_p)) for new_p in range(75,101, 5)])"
      ],
      "metadata": {
        "colab": {
          "base_uri": "https://localhost:8080/"
        },
        "outputId": "017c51f2-c809-4f00-a982-990c68b1ea9a",
        "id": "oE1wiHVZ9tWA"
      },
      "execution_count": null,
      "outputs": [
        {
          "output_type": "stream",
          "name": "stdout",
          "text": [
            "[('75%', 175.0), ('80%', 200.0), ('85%', 233.0), ('90%', 281.0), ('95%', 368.0), ('100%', 1040.0)]\n"
          ]
        }
      ],
      "id": "oE1wiHVZ9tWA"
    },
    {
      "cell_type": "code",
      "source": [
        "max_len = 368 #max length for the embedding\n",
        "\n",
        "x_train_pad = pad_sequences(x_train, padding = 'post', maxlen = max_len)\n",
        "x_test_pad = pad_sequences(x_test , padding = 'post', maxlen = max_len)"
      ],
      "metadata": {
        "id": "bIwSgyk3C4EU"
      },
      "execution_count": null,
      "outputs": [],
      "id": "bIwSgyk3C4EU"
    },
    {
      "cell_type": "code",
      "source": [
        "embeddings_dictionary = dict()\n",
        "glove_file = open('/content/drive/My Drive/sentiment/glove.6B.100d.txt', encoding=\"utf8\")\n",
        "\n",
        "for line in glove_file:\n",
        "    records = line.split()\n",
        "    word = records[0]\n",
        "    vector_dimensions = np.asarray(records[1:], dtype='float32')\n",
        "    embeddings_dictionary [word] = vector_dimensions\n",
        "glove_file.close()"
      ],
      "metadata": {
        "id": "yBePx-FZCSLj"
      },
      "execution_count": null,
      "outputs": [],
      "id": "yBePx-FZCSLj"
    },
    {
      "cell_type": "code",
      "source": [
        "embedding_matrix = np.zeros((vocab_size, 100))\n",
        "for word, index in tokenizer.word_index.items():\n",
        "    embedding_vector = embeddings_dictionary.get(word)\n",
        "    if embedding_vector is not None:\n",
        "        embedding_matrix[index] = embedding_vector"
      ],
      "metadata": {
        "id": "EaWTHW9vCQAf"
      },
      "execution_count": null,
      "outputs": [],
      "id": "EaWTHW9vCQAf"
    },
    {
      "cell_type": "markdown",
      "source": [
        "## LSTM"
      ],
      "metadata": {
        "id": "6ivWc7VnxdC2"
      },
      "id": "6ivWc7VnxdC2"
    },
    {
      "cell_type": "code",
      "source": [
        "model_LSTM_uni = Sequential([\n",
        "    Embedding(vocab_size, #how many unique words are rapresented\n",
        "              100, #every word will be mapped in a vector of lenght 100\n",
        "              weights=[embedding_matrix], #initial weights calculated with Glove\n",
        "              input_length=max_len, #set the max length of the vectors for embedding\n",
        "              trainable =False),  # with False prevent the weights from being updated during training\n",
        "    SpatialDropout1D(0.2), #remove 20% of random elements to avoid overfitting, it remove not only the element but the entire map(different from droput)\n",
        "    LSTM(100), #combining LSTM layers from both directions instead of only a direction like LSTM.\n",
        "    Dense(5, activation = 'softmax') #softmax works well for multiclassification\n",
        "])\n",
        "\n",
        "model_LSTM_uni.compile(loss = 'categorical_crossentropy', optimizer = 'adam', metrics = ['accuracy'])\n",
        "print(model_LSTM_uni.summary())\n",
        "\n"
      ],
      "metadata": {
        "colab": {
          "base_uri": "https://localhost:8080/"
        },
        "outputId": "d2e4b9dc-8e8d-4b15-aad9-997fc5fc45f4",
        "id": "_hiLt33Zn_nr"
      },
      "execution_count": null,
      "outputs": [
        {
          "output_type": "stream",
          "name": "stdout",
          "text": [
            "Model: \"sequential_3\"\n",
            "_________________________________________________________________\n",
            " Layer (type)                Output Shape              Param #   \n",
            "=================================================================\n",
            " embedding_3 (Embedding)     (None, 368, 100)          76454100  \n",
            "                                                                 \n",
            " spatial_dropout1d_3 (Spatia  (None, 368, 100)         0         \n",
            " lDropout1D)                                                     \n",
            "                                                                 \n",
            " lstm_2 (LSTM)               (None, 100)               80400     \n",
            "                                                                 \n",
            " dense_3 (Dense)             (None, 5)                 505       \n",
            "                                                                 \n",
            "=================================================================\n",
            "Total params: 76,535,005\n",
            "Trainable params: 80,905\n",
            "Non-trainable params: 76,454,100\n",
            "_________________________________________________________________\n",
            "None\n"
          ]
        }
      ],
      "id": "_hiLt33Zn_nr"
    },
    {
      "cell_type": "code",
      "source": [
        "model_LSTM_uni.fit(x_train_pad, y_train_d, batch_size = 64, epochs = 5, verbose = 1,validation_split=0.2)"
      ],
      "metadata": {
        "colab": {
          "base_uri": "https://localhost:8080/"
        },
        "outputId": "29e274d4-2b2f-4681-ef4d-e4750dfe150b",
        "id": "xR8jStWUn_nt"
      },
      "execution_count": null,
      "outputs": [
        {
          "output_type": "stream",
          "name": "stdout",
          "text": [
            "Epoch 1/5\n",
            "8125/8125 [==============================] - 138s 17ms/step - loss: 1.5579 - accuracy: 0.2426 - val_loss: 1.1488 - val_accuracy: 0.5031\n",
            "Epoch 2/5\n",
            "8125/8125 [==============================] - 136s 17ms/step - loss: 1.0744 - accuracy: 0.5266 - val_loss: 0.9442 - val_accuracy: 0.5891\n",
            "Epoch 3/5\n",
            "8125/8125 [==============================] - 136s 17ms/step - loss: 1.0012 - accuracy: 0.5588 - val_loss: 0.9036 - val_accuracy: 0.6068\n",
            "Epoch 4/5\n",
            "8125/8125 [==============================] - 135s 17ms/step - loss: 0.9752 - accuracy: 0.5698 - val_loss: 0.8804 - val_accuracy: 0.6167\n",
            "Epoch 5/5\n",
            "8125/8125 [==============================] - 135s 17ms/step - loss: 0.9595 - accuracy: 0.5772 - val_loss: 0.8706 - val_accuracy: 0.6232\n"
          ]
        },
        {
          "output_type": "execute_result",
          "data": {
            "text/plain": [
              "<keras.callbacks.History at 0x7fdb3ea4da30>"
            ]
          },
          "metadata": {},
          "execution_count": 111
        }
      ],
      "id": "xR8jStWUn_nt"
    },
    {
      "cell_type": "code",
      "source": [
        "score_LSTM_uni = model_LSTM_uni.evaluate(x_test_pad,y_test_d,verbose=1)"
      ],
      "metadata": {
        "colab": {
          "base_uri": "https://localhost:8080/"
        },
        "outputId": "470d3135-5c54-4450-e93e-07a93d3a30bb",
        "id": "VmUzVD-Qn_nt"
      },
      "execution_count": null,
      "outputs": [
        {
          "output_type": "stream",
          "name": "stdout",
          "text": [
            "1563/1563 [==============================] - 12s 8ms/step - loss: 0.9299 - accuracy: 0.5912\n"
          ]
        }
      ],
      "id": "VmUzVD-Qn_nt"
    },
    {
      "cell_type": "code",
      "source": [
        "import urllib\n",
        "import sklearn\n",
        "import logging\n",
        "import os\n",
        "import numpy as np\n",
        "from seqeval.metrics import classification_report\n",
        "from sklearn.metrics import confusion_matrix,classification_report"
      ],
      "metadata": {
        "id": "hggXniXwn_nu"
      },
      "execution_count": null,
      "outputs": [],
      "id": "hggXniXwn_nu"
    },
    {
      "cell_type": "code",
      "source": [
        "predictions_LSTM_uni = model_LSTM_uni.predict(x_test_pad)\n",
        "prediction_classes_LSTM_uni=np.argmax(predictions_LSTM_uni,axis=1)"
      ],
      "metadata": {
        "colab": {
          "base_uri": "https://localhost:8080/"
        },
        "outputId": "52b73b12-0841-42b3-af46-c1278eab088f",
        "id": "whRa9s6In_nu"
      },
      "execution_count": null,
      "outputs": [
        {
          "output_type": "stream",
          "name": "stdout",
          "text": [
            "1563/1563 [==============================] - 10s 6ms/step\n"
          ]
        }
      ],
      "id": "whRa9s6In_nu"
    },
    {
      "cell_type": "code",
      "source": [
        "\n",
        "cd_LSTM_uni = print(classification_report(y_test_d.argmax(axis=1),prediction_classes_LSTM_uni))"
      ],
      "metadata": {
        "colab": {
          "base_uri": "https://localhost:8080/"
        },
        "outputId": "f259cb46-b317-41c4-e634-200e8e83278f",
        "id": "jI_Zg44Tn_nv"
      },
      "execution_count": null,
      "outputs": [
        {
          "output_type": "stream",
          "name": "stdout",
          "text": [
            "              precision    recall  f1-score   support\n",
            "\n",
            "           0       0.67      0.81      0.73     10000\n",
            "           1       0.51      0.55      0.53     10000\n",
            "           2       0.55      0.41      0.47     10000\n",
            "           3       0.53      0.46      0.49     10000\n",
            "           4       0.66      0.73      0.69     10000\n",
            "\n",
            "    accuracy                           0.59     50000\n",
            "   macro avg       0.58      0.59      0.58     50000\n",
            "weighted avg       0.58      0.59      0.58     50000\n",
            "\n"
          ]
        }
      ],
      "id": "jI_Zg44Tn_nv"
    },
    {
      "cell_type": "code",
      "source": [
        "cm_df = pd.DataFrame(cf_matrix)"
      ],
      "metadata": {
        "id": "0viCWZN-n_nv"
      },
      "execution_count": null,
      "outputs": [],
      "id": "0viCWZN-n_nv"
    },
    {
      "cell_type": "code",
      "source": [
        "sns.heatmap(cm_df/np.sum(cm_df), annot=True, fmt='.2%', cmap='spring').set(title='LSTM')"
      ],
      "metadata": {
        "colab": {
          "base_uri": "https://localhost:8080/",
          "height": 298
        },
        "outputId": "16afa9b6-8af5-4dd8-eda1-fc6e332af90f",
        "id": "6GNoWxT8n_nv"
      },
      "execution_count": null,
      "outputs": [
        {
          "output_type": "execute_result",
          "data": {
            "text/plain": [
              "[Text(0.5, 1.0, 'LSTM')]"
            ]
          },
          "metadata": {},
          "execution_count": 47
        },
        {
          "output_type": "display_data",
          "data": {
            "text/plain": [
              "<Figure size 432x288 with 2 Axes>"
            ],
            "image/png": "[encoded data removed]"
          },
          "metadata": {
            "needs_background": "light"
          }
        }
      ],
      "id": "6GNoWxT8n_nv"
    },
    {
      "cell_type": "markdown",
      "source": [
        "## BiLSTM without Stopwords\n",
        " As we are dealing with a large amount of data we start  implementing a bidarectional LSTM, to avoid lose information of the first inputs.\n",
        " Generally for sentiment analysis is suggested to remove stopwords but in our case the loss of information due to this process is too high, so we procede to perform again the BiLSTM including stopwords."
      ],
      "metadata": {
        "id": "XrjEfopXBUpJ"
      },
      "id": "XrjEfopXBUpJ"
    },
    {
      "cell_type": "code",
      "source": [
        "model_LSTM = Sequential([\n",
        "    Embedding(vocab_size, #how many unique words are rapresented\n",
        "              100, #every word will be mapped in a vector of lenght 100\n",
        "              weights=[embedding_matrix], #initial weights calculated with Glove\n",
        "              input_length=max_len, #set the max length of the vectors for embedding\n",
        "              trainable =False),  # with False prevent the weights from being updated during training\n",
        "    SpatialDropout1D(0.2), #remove 20% of random elements to avoid overfitting, it remove not only the element but the entire map(different from droput)\n",
        "    Bidirectional(LSTM(100)), #combining LSTM layers from both directions instead of only a direction like LSTM.\n",
        "    Dense(5, activation = 'softmax') #softmax works well for multiclassification\n",
        "])\n",
        "\n",
        "model_LSTM.compile(loss = 'categorical_crossentropy', optimizer = 'adam', metrics = ['accuracy'])\n",
        "print(model_LSTM.summary())\n",
        "\n"
      ],
      "metadata": {
        "colab": {
          "base_uri": "https://localhost:8080/"
        },
        "id": "m41MceNkCUov",
        "outputId": "7f9accb4-bc38-4767-b232-a0e98a37ccde"
      },
      "execution_count": null,
      "outputs": [
        {
          "output_type": "stream",
          "name": "stdout",
          "text": [
            "Model: \"sequential\"\n",
            "_________________________________________________________________\n",
            " Layer (type)                Output Shape              Param #   \n",
            "=================================================================\n",
            " embedding (Embedding)       (None, 368, 100)          76454100  \n",
            "                                                                 \n",
            " spatial_dropout1d (SpatialD  (None, 368, 100)         0         \n",
            " ropout1D)                                                       \n",
            "                                                                 \n",
            " bidirectional (Bidirectiona  (None, 200)              160800    \n",
            " l)                                                              \n",
            "                                                                 \n",
            " dense (Dense)               (None, 5)                 1005      \n",
            "                                                                 \n",
            "=================================================================\n",
            "Total params: 76,615,905\n",
            "Trainable params: 161,805\n",
            "Non-trainable params: 76,454,100\n",
            "_________________________________________________________________\n",
            "None\n"
          ]
        }
      ],
      "id": "m41MceNkCUov"
    },
    {
      "cell_type": "code",
      "source": [
        "history_LSTM = model_LSTM.fit(x_train_pad, y_train_d, batch_size = 64, epochs = 10, verbose = 1,validation_split=0.2)"
      ],
      "metadata": {
        "colab": {
          "base_uri": "https://localhost:8080/"
        },
        "id": "h6X9bcOP_t5Z",
        "outputId": "adf73e03-022d-4310-eeeb-94134c6489d3"
      },
      "execution_count": null,
      "outputs": [
        {
          "output_type": "stream",
          "name": "stdout",
          "text": [
            "Epoch 1/10\n",
            "8125/8125 [==============================] - 253s 30ms/step - loss: 1.1009 - accuracy: 0.5151 - val_loss: 0.9361 - val_accuracy: 0.5903\n",
            "Epoch 2/10\n",
            "8125/8125 [==============================] - 244s 30ms/step - loss: 0.9957 - accuracy: 0.5611 - val_loss: 0.8905 - val_accuracy: 0.6144\n",
            "Epoch 3/10\n",
            "8125/8125 [==============================] - 245s 30ms/step - loss: 0.9673 - accuracy: 0.5744 - val_loss: 0.8733 - val_accuracy: 0.6211\n",
            "Epoch 4/10\n",
            "8125/8125 [==============================] - 245s 30ms/step - loss: 0.9597 - accuracy: 0.5783 - val_loss: 0.8668 - val_accuracy: 0.6225\n",
            "Epoch 5/10\n",
            "8125/8125 [==============================] - 247s 30ms/step - loss: 0.9449 - accuracy: 0.5844 - val_loss: 0.8627 - val_accuracy: 0.6253\n",
            "Epoch 6/10\n",
            "8125/8125 [==============================] - 247s 30ms/step - loss: 0.9379 - accuracy: 0.5868 - val_loss: 0.8560 - val_accuracy: 0.6261\n",
            "Epoch 7/10\n",
            "8125/8125 [==============================] - 247s 30ms/step - loss: 0.9402 - accuracy: 0.5865 - val_loss: 0.8757 - val_accuracy: 0.6189\n",
            "Epoch 8/10\n",
            "8125/8125 [==============================] - 247s 30ms/step - loss: 0.9298 - accuracy: 0.5906 - val_loss: 0.8671 - val_accuracy: 0.6200\n",
            "Epoch 9/10\n",
            "8125/8125 [==============================] - 247s 30ms/step - loss: 0.9261 - accuracy: 0.5926 - val_loss: 0.8714 - val_accuracy: 0.6157\n",
            "Epoch 10/10\n",
            "8125/8125 [==============================] - 253s 31ms/step - loss: 0.9219 - accuracy: 0.5945 - val_loss: 0.8684 - val_accuracy: 0.6180\n"
          ]
        }
      ],
      "id": "h6X9bcOP_t5Z"
    },
    {
      "cell_type": "code",
      "source": [
        "score = model_LSTM.evaluate(x_test_pad,y_test_d,verbose=1)"
      ],
      "metadata": {
        "colab": {
          "base_uri": "https://localhost:8080/"
        },
        "id": "dBDvp21RN8wx",
        "outputId": "a288b73f-543b-4896-f963-468d74e8c1b6"
      },
      "execution_count": null,
      "outputs": [
        {
          "output_type": "stream",
          "name": "stdout",
          "text": [
            "1563/1563 [==============================] - 22s 14ms/step - loss: 0.9071 - accuracy: 0.5979\n"
          ]
        }
      ],
      "id": "dBDvp21RN8wx"
    },
    {
      "cell_type": "markdown",
      "source": [
        "## BiLSTM  "
      ],
      "metadata": {
        "id": "K8x9CArJYZye"
      },
      "id": "K8x9CArJYZye"
    },
    {
      "cell_type": "code",
      "source": [
        "model = Sequential([\n",
        "    Embedding(vocab_size, #how many unique words are rapresented\n",
        "              100, #every word will be mapped in a vector of lenght 100\n",
        "              weights=[embedding_matrix], #initial weights calculated with Glove\n",
        "              input_length=max_len, #set the max length of the vectors for embedding\n",
        "              trainable =False),  # with False prevent the weights from being updated during training\n",
        "    SpatialDropout1D(0.2), #remove 20% of random elements to avoid overfitting, it remove not only the element but the entire map(different from droput)\n",
        "    Bidirectional(LSTM(100)), #combining LSTM layers from both directions instead of only a direction like LSTM.\n",
        "    Dense(5, activation = 'softmax') #softmax works well for multiclassification\n",
        "])\n",
        "\n",
        "model.compile(loss = 'categorical_crossentropy', optimizer = 'adam', metrics = ['accuracy'])\n",
        "print(model.summary())\n",
        "\n"
      ],
      "metadata": {
        "colab": {
          "base_uri": "https://localhost:8080/"
        },
        "outputId": "6b974c31-54e2-4e3c-a871-c591c8657c9f",
        "id": "oxWR_hYvyAAB"
      },
      "execution_count": null,
      "outputs": [
        {
          "output_type": "stream",
          "name": "stdout",
          "text": [
            "Model: \"sequential\"\n",
            "_________________________________________________________________\n",
            " Layer (type)                Output Shape              Param #   \n",
            "=================================================================\n",
            " embedding (Embedding)       (None, 368, 100)          26399300  \n",
            "                                                                 \n",
            " spatial_dropout1d (SpatialD  (None, 368, 100)         0         \n",
            " ropout1D)                                                       \n",
            "                                                                 \n",
            " bidirectional (Bidirectiona  (None, 200)              160800    \n",
            " l)                                                              \n",
            "                                                                 \n",
            " dense (Dense)               (None, 5)                 1005      \n",
            "                                                                 \n",
            "=================================================================\n",
            "Total params: 26,561,105\n",
            "Trainable params: 161,805\n",
            "Non-trainable params: 26,399,300\n",
            "_________________________________________________________________\n",
            "None\n"
          ]
        }
      ],
      "id": "oxWR_hYvyAAB"
    },
    {
      "cell_type": "code",
      "source": [
        "model.fit(x_train_pad, y_train_d, batch_size = 64, epochs = 10, verbose = 1,validation_split=0.2)"
      ],
      "metadata": {
        "colab": {
          "base_uri": "https://localhost:8080/"
        },
        "outputId": "bc80ec0e-da36-4582-be91-62bf7e6378fe",
        "id": "jCUFQ-6zyAAL"
      },
      "execution_count": null,
      "outputs": [
        {
          "output_type": "stream",
          "name": "stdout",
          "text": [
            "Epoch 1/10\n",
            "8125/8125 [==============================] - 246s 30ms/step - loss: 0.9005 - accuracy: 0.6029 - val_loss: 0.8055 - val_accuracy: 0.6484\n",
            "Epoch 2/10\n",
            "8125/8125 [==============================] - 253s 31ms/step - loss: 0.8800 - accuracy: 0.6126 - val_loss: 0.7833 - val_accuracy: 0.6603\n",
            "Epoch 3/10\n",
            "8125/8125 [==============================] - 250s 31ms/step - loss: 0.8661 - accuracy: 0.6190 - val_loss: 0.7844 - val_accuracy: 0.6585\n",
            "Epoch 4/10\n",
            "8125/8125 [==============================] - 247s 30ms/step - loss: 0.8569 - accuracy: 0.6238 - val_loss: 0.7943 - val_accuracy: 0.6540\n",
            "Epoch 5/10\n",
            "8125/8125 [==============================] - 248s 31ms/step - loss: 0.8497 - accuracy: 0.6269 - val_loss: 0.7788 - val_accuracy: 0.6625\n",
            "Epoch 6/10\n",
            "8125/8125 [==============================] - 248s 30ms/step - loss: 0.8420 - accuracy: 0.6306 - val_loss: 0.7954 - val_accuracy: 0.6518\n",
            "Epoch 7/10\n",
            "8125/8125 [==============================] - 248s 31ms/step - loss: 0.8364 - accuracy: 0.6330 - val_loss: 0.7776 - val_accuracy: 0.6630\n",
            "Epoch 8/10\n",
            "8125/8125 [==============================] - 247s 30ms/step - loss: 0.8314 - accuracy: 0.6355 - val_loss: 0.7808 - val_accuracy: 0.6622\n",
            "Epoch 9/10\n",
            "8125/8125 [==============================] - 250s 31ms/step - loss: 0.8278 - accuracy: 0.6371 - val_loss: 0.7682 - val_accuracy: 0.6683\n",
            "Epoch 10/10\n",
            "8125/8125 [==============================] - 248s 31ms/step - loss: 0.8247 - accuracy: 0.6386 - val_loss: 0.7792 - val_accuracy: 0.6630\n"
          ]
        },
        {
          "output_type": "execute_result",
          "data": {
            "text/plain": [
              "<keras.callbacks.History at 0x7fa385158d90>"
            ]
          },
          "metadata": {},
          "execution_count": 38
        }
      ],
      "id": "jCUFQ-6zyAAL"
    },
    {
      "cell_type": "code",
      "source": [
        "score = model.evaluate(x_test_pad,y_test_d,verbose=1)"
      ],
      "metadata": {
        "colab": {
          "base_uri": "https://localhost:8080/"
        },
        "outputId": "4a69656c-7c1c-4405-830c-b0e31d4c3edc",
        "id": "WLKsuV1wyAAM"
      },
      "execution_count": null,
      "outputs": [
        {
          "output_type": "stream",
          "name": "stdout",
          "text": [
            "1563/1563 [==============================] - 22s 14ms/step - loss: 0.8286 - accuracy: 0.6398\n"
          ]
        }
      ],
      "id": "WLKsuV1wyAAM"
    },
    {
      "cell_type": "code",
      "source": [
        "import urllib\n",
        "import sklearn\n",
        "import logging\n",
        "import os\n",
        "import numpy as np\n",
        "from seqeval.metrics import classification_report\n",
        "from sklearn.metrics import confusion_matrix,classification_report"
      ],
      "metadata": {
        "id": "1mp25Co4QGwF"
      },
      "execution_count": null,
      "outputs": [],
      "id": "1mp25Co4QGwF"
    },
    {
      "cell_type": "code",
      "source": [
        "predictions = model.predict(x_test_pad)\n",
        "prediction_classes=np.argmax(predictions,axis=1)"
      ],
      "metadata": {
        "colab": {
          "base_uri": "https://localhost:8080/"
        },
        "id": "RntELO3JQKlW",
        "outputId": "f1c41203-62fc-43fb-c83b-b386ee72e438"
      },
      "execution_count": null,
      "outputs": [
        {
          "output_type": "stream",
          "name": "stdout",
          "text": [
            "1563/1563 [==============================] - 20s 12ms/step\n"
          ]
        }
      ],
      "id": "RntELO3JQKlW"
    },
    {
      "cell_type": "code",
      "source": [
        "cf_matrix = confusion_matrix(y_test_d.argmax(axis=1),prediction_classes)\n",
        "print(classification_report(y_test_d.argmax(axis=1),prediction_classes))"
      ],
      "metadata": {
        "colab": {
          "base_uri": "https://localhost:8080/"
        },
        "id": "YU5pd2gEQKek",
        "outputId": "6edc2962-7049-4cc4-d31d-61fd5a95a6db"
      },
      "execution_count": null,
      "outputs": [
        {
          "output_type": "stream",
          "name": "stdout",
          "text": [
            "              precision    recall  f1-score   support\n",
            "\n",
            "           0       0.76      0.76      0.76     10000\n",
            "           1       0.61      0.54      0.57     10000\n",
            "           2       0.57      0.60      0.58     10000\n",
            "           3       0.54      0.60      0.57     10000\n",
            "           4       0.73      0.70      0.71     10000\n",
            "\n",
            "    accuracy                           0.64     50000\n",
            "   macro avg       0.64      0.64      0.64     50000\n",
            "weighted avg       0.64      0.64      0.64     50000\n",
            "\n"
          ]
        }
      ],
      "id": "YU5pd2gEQKek"
    },
    {
      "cell_type": "code",
      "source": [
        "cm_df = pd.DataFrame(cf_matrix)"
      ],
      "metadata": {
        "id": "9Aj2BehaQKQq"
      },
      "execution_count": null,
      "outputs": [],
      "id": "9Aj2BehaQKQq"
    },
    {
      "cell_type": "code",
      "source": [
        "sns.heatmap(cm_df/np.sum(cm_df), annot=True, fmt='.2%', cmap='spring').set(title='LSTM')"
      ],
      "metadata": {
        "colab": {
          "base_uri": "https://localhost:8080/",
          "height": 298
        },
        "id": "qDR4ja0vRzm8",
        "outputId": "16afa9b6-8af5-4dd8-eda1-fc6e332af90f"
      },
      "execution_count": null,
      "outputs": [
        {
          "output_type": "execute_result",
          "data": {
            "text/plain": [
              "[Text(0.5, 1.0, 'LSTM')]"
            ]
          },
          "metadata": {},
          "execution_count": 47
        },
        {
          "output_type": "display_data",
          "data": {
            "text/plain": [
              "<Figure size 432x288 with 2 Axes>"
            ],
            "image/png": "[encoded data removed]"
          },
          "metadata": {
            "needs_background": "light"
          }
        }
      ],
      "id": "qDR4ja0vRzm8"
    },
    {
      "cell_type": "markdown",
      "source": [
        "## GRU"
      ],
      "metadata": {
        "id": "Nri8t2yJBez3"
      },
      "id": "Nri8t2yJBez3"
    },
    {
      "cell_type": "code",
      "source": [
        "model_GRU = Sequential([\n",
        "    Embedding(vocab_size, 100,  weights=[embedding_matrix], input_length=max_len, trainable =False),\n",
        "    SpatialDropout1D(0.2),\n",
        "    GRU(100),\n",
        "    Dense(5, activation = 'softmax')\n",
        "])\n",
        "\n",
        "model_GRU.compile(loss = 'categorical_crossentropy', optimizer = 'adam', metrics = ['accuracy'])\n",
        "print(model_GRU.summary())"
      ],
      "metadata": {
        "colab": {
          "base_uri": "https://localhost:8080/"
        },
        "id": "zMM814V_HM_H",
        "outputId": "a417714a-e63f-484b-da12-73deb386f9f6"
      },
      "execution_count": null,
      "outputs": [
        {
          "output_type": "stream",
          "name": "stdout",
          "text": [
            "Model: \"sequential\"\n",
            "_________________________________________________________________\n",
            " Layer (type)                Output Shape              Param #   \n",
            "=================================================================\n",
            " embedding (Embedding)       (None, 368, 100)          26399300  \n",
            "                                                                 \n",
            " spatial_dropout1d (SpatialD  (None, 368, 100)         0         \n",
            " ropout1D)                                                       \n",
            "                                                                 \n",
            " gru (GRU)                   (None, 100)               60600     \n",
            "                                                                 \n",
            " dense (Dense)               (None, 5)                 505       \n",
            "                                                                 \n",
            "=================================================================\n",
            "Total params: 26,460,405\n",
            "Trainable params: 61,105\n",
            "Non-trainable params: 26,399,300\n",
            "_________________________________________________________________\n",
            "None\n"
          ]
        }
      ],
      "id": "zMM814V_HM_H"
    },
    {
      "cell_type": "code",
      "source": [
        "model_GRU.fit(x_train_pad, y_train_d, batch_size = 64, epochs = 5, verbose = 1,validation_split=0.2)"
      ],
      "metadata": {
        "colab": {
          "base_uri": "https://localhost:8080/"
        },
        "id": "jfqfjUBJHM1G",
        "outputId": "c309b70f-b7b4-47e2-83cd-c1951ea5afc5"
      },
      "execution_count": null,
      "outputs": [
        {
          "output_type": "stream",
          "name": "stdout",
          "text": [
            "Epoch 1/5\n",
            "8125/8125 [==============================] - 141s 17ms/step - loss: 1.2825 - accuracy: 0.4042 - val_loss: 0.9124 - val_accuracy: 0.6029\n",
            "Epoch 2/5\n",
            "8125/8125 [==============================] - 134s 17ms/step - loss: 0.9599 - accuracy: 0.5762 - val_loss: 0.8381 - val_accuracy: 0.6366\n",
            "Epoch 3/5\n",
            "8125/8125 [==============================] - 134s 16ms/step - loss: 0.9196 - accuracy: 0.5950 - val_loss: 0.8214 - val_accuracy: 0.6391\n",
            "Epoch 4/5\n",
            "8125/8125 [==============================] - 134s 16ms/step - loss: 0.8993 - accuracy: 0.6045 - val_loss: 0.8157 - val_accuracy: 0.6442\n",
            "Epoch 5/5\n",
            "8125/8125 [==============================] - 133s 16ms/step - loss: 0.8869 - accuracy: 0.6108 - val_loss: 0.7921 - val_accuracy: 0.6564\n"
          ]
        },
        {
          "output_type": "execute_result",
          "data": {
            "text/plain": [
              "<keras.callbacks.History at 0x7fdb7ffd6670>"
            ]
          },
          "metadata": {},
          "execution_count": 36
        }
      ],
      "id": "jfqfjUBJHM1G"
    },
    {
      "cell_type": "code",
      "source": [
        "score_GRU = model_GRU.evaluate(x_test_pad,y_test_d,verbose=1)"
      ],
      "metadata": {
        "colab": {
          "base_uri": "https://localhost:8080/"
        },
        "id": "0K50OiLaOAC0",
        "outputId": "3d74cb87-7261-41dd-9e41-8621a4b557e6"
      },
      "execution_count": null,
      "outputs": [
        {
          "output_type": "stream",
          "name": "stdout",
          "text": [
            "1563/1563 [==============================] - 12s 7ms/step - loss: 0.8477 - accuracy: 0.6282\n"
          ]
        }
      ],
      "id": "0K50OiLaOAC0"
    },
    {
      "cell_type": "code",
      "source": [
        "predictions_GRU = model_GRU.predict(x_test_pad)\n",
        "prediction_classes_GRU =np.argmax(predictions_GRU,axis=1)"
      ],
      "metadata": {
        "colab": {
          "base_uri": "https://localhost:8080/"
        },
        "id": "QkAuaVEYWaMr",
        "outputId": "c9f62f30-bb55-4b6d-a96c-0f676a52189e"
      },
      "execution_count": null,
      "outputs": [
        {
          "output_type": "stream",
          "name": "stdout",
          "text": [
            "1563/1563 [==============================] - 10s 6ms/step\n"
          ]
        }
      ],
      "id": "QkAuaVEYWaMr"
    },
    {
      "cell_type": "code",
      "source": [
        "x_GRU = confusion_matrix(y_test_d.argmax(axis=1),prediction_classes_GRU)\n",
        "cf_matrix_GRU = print(classification_report(y_test_d.argmax(axis=1),prediction_classes_GRU))"
      ],
      "metadata": {
        "colab": {
          "base_uri": "https://localhost:8080/"
        },
        "id": "KWa_EwMwWOGe",
        "outputId": "3cbdf9fb-da4e-439b-8022-21fef1bd31dc"
      },
      "execution_count": null,
      "outputs": [
        {
          "output_type": "stream",
          "name": "stdout",
          "text": [
            "              precision    recall  f1-score   support\n",
            "\n",
            "           0       0.75      0.75      0.75     10000\n",
            "           1       0.58      0.59      0.58     10000\n",
            "           2       0.57      0.54      0.55     10000\n",
            "           3       0.54      0.55      0.54     10000\n",
            "           4       0.71      0.72      0.71     10000\n",
            "\n",
            "    accuracy                           0.63     50000\n",
            "   macro avg       0.63      0.63      0.63     50000\n",
            "weighted avg       0.63      0.63      0.63     50000\n",
            "\n"
          ]
        }
      ],
      "id": "KWa_EwMwWOGe"
    },
    {
      "cell_type": "markdown",
      "source": [
        "## Binary classification with BiLSTM\n",
        "We diveide the reviews in positive and negative and perform BiLSTM. this allows us to compare the model with Vader and see if is possible to increse the accuracy of the analysis reducing the number of classes.  "
      ],
      "metadata": {
        "id": "R8oSWOBvBj2N"
      },
      "id": "R8oSWOBvBj2N"
    },
    {
      "cell_type": "code",
      "source": [
        "def lab(x):\n",
        "\n",
        "    if x<3:\n",
        "        x = 0 # Negative\n",
        "    else:\n",
        "        x = 1 # Positive\n",
        "    return x"
      ],
      "metadata": {
        "id": "pZOd9EydHMfv"
      },
      "execution_count": null,
      "outputs": [],
      "id": "pZOd9EydHMfv"
    },
    {
      "cell_type": "code",
      "source": [
        "train['label'] = train['rate'].apply(lab)"
      ],
      "metadata": {
        "id": "2Vu70ZFQHMZ-"
      },
      "execution_count": null,
      "outputs": [],
      "id": "2Vu70ZFQHMZ-"
    },
    {
      "cell_type": "code",
      "source": [
        "test['label'] = test['rate'].apply(lab)"
      ],
      "metadata": {
        "id": "RicyzkrEHMUf"
      },
      "execution_count": null,
      "outputs": [],
      "id": "RicyzkrEHMUf"
    },
    {
      "cell_type": "code",
      "source": [
        "y_train_d_binary = train['label']"
      ],
      "metadata": {
        "id": "Xj3D0ryh_tso"
      },
      "execution_count": null,
      "outputs": [],
      "id": "Xj3D0ryh_tso"
    },
    {
      "cell_type": "code",
      "source": [
        "y_test_d_binary = test['label']"
      ],
      "metadata": {
        "id": "4m4UiNI1PbYz"
      },
      "execution_count": null,
      "outputs": [],
      "id": "4m4UiNI1PbYz"
    },
    {
      "cell_type": "code",
      "source": [
        "model_Binary = Sequential([\n",
        "    Embedding(vocab_size, 100,  weights=[embedding_matrix], input_length=max_len, trainable = False),\n",
        "    SpatialDropout1D(0.2),\n",
        "    Bidirectional(LSTM(100)),\n",
        "    Dense(1, activation = 'sigmoid')\n",
        "])\n",
        "\n",
        "model_Binary.compile(loss = 'binary_crossentropy', optimizer = 'adam', metrics = ['accuracy'])\n",
        "print(model_Binary.summary())"
      ],
      "metadata": {
        "colab": {
          "base_uri": "https://localhost:8080/"
        },
        "id": "O1Eqg-WwPbNt",
        "outputId": "33805f05-147e-49eb-fe3c-ddd5b743730f"
      },
      "execution_count": null,
      "outputs": [
        {
          "output_type": "stream",
          "name": "stdout",
          "text": [
            "Model: \"sequential_1\"\n",
            "_________________________________________________________________\n",
            " Layer (type)                Output Shape              Param #   \n",
            "=================================================================\n",
            " embedding_1 (Embedding)     (None, 368, 100)          26399300  \n",
            "                                                                 \n",
            " spatial_dropout1d_1 (Spatia  (None, 368, 100)         0         \n",
            " lDropout1D)                                                     \n",
            "                                                                 \n",
            " bidirectional (Bidirectiona  (None, 200)              160800    \n",
            " l)                                                              \n",
            "                                                                 \n",
            " dense_1 (Dense)             (None, 1)                 201       \n",
            "                                                                 \n",
            "=================================================================\n",
            "Total params: 26,560,301\n",
            "Trainable params: 161,001\n",
            "Non-trainable params: 26,399,300\n",
            "_________________________________________________________________\n",
            "None\n"
          ]
        }
      ],
      "id": "O1Eqg-WwPbNt"
    },
    {
      "cell_type": "code",
      "source": [
        "model_Binary.fit(x_train_pad, y_train_d_binary, batch_size = 64, epochs = 5, verbose = 1,validation_split=0.2)"
      ],
      "metadata": {
        "colab": {
          "base_uri": "https://localhost:8080/"
        },
        "id": "A1QtAI2dPbCy",
        "outputId": "d023835c-aac0-4bb1-8306-0d07272d9166"
      },
      "execution_count": null,
      "outputs": [
        {
          "output_type": "stream",
          "name": "stdout",
          "text": [
            "Epoch 1/5\n",
            "8125/8125 [==============================] - 255s 31ms/step - loss: 0.3698 - accuracy: 0.8300 - val_loss: 0.2743 - val_accuracy: 0.8796\n",
            "Epoch 2/5\n",
            "8125/8125 [==============================] - 251s 31ms/step - loss: 0.2993 - accuracy: 0.8680 - val_loss: 0.2459 - val_accuracy: 0.8934\n",
            "Epoch 3/5\n",
            "8125/8125 [==============================] - 253s 31ms/step - loss: 0.2792 - accuracy: 0.8778 - val_loss: 0.2351 - val_accuracy: 0.8984\n",
            "Epoch 4/5\n",
            "8125/8125 [==============================] - 256s 31ms/step - loss: 0.2655 - accuracy: 0.8844 - val_loss: 0.2343 - val_accuracy: 0.8991\n",
            "Epoch 5/5\n",
            "8125/8125 [==============================] - 252s 31ms/step - loss: 0.2580 - accuracy: 0.8881 - val_loss: 0.2243 - val_accuracy: 0.9039\n"
          ]
        },
        {
          "output_type": "execute_result",
          "data": {
            "text/plain": [
              "<keras.callbacks.History at 0x7fdb58a02d30>"
            ]
          },
          "metadata": {},
          "execution_count": 49
        }
      ],
      "id": "A1QtAI2dPbCy"
    },
    {
      "cell_type": "code",
      "source": [
        "score_Binary = model_Binary.evaluate(x_test_pad,y_test_d_binary,verbose=1)"
      ],
      "metadata": {
        "colab": {
          "base_uri": "https://localhost:8080/"
        },
        "id": "JkuK9ELtPa39",
        "outputId": "74475002-dbfd-42f1-a995-fce49b953e21"
      },
      "execution_count": null,
      "outputs": [
        {
          "output_type": "stream",
          "name": "stdout",
          "text": [
            "1563/1563 [==============================] - 21s 14ms/step - loss: 0.2457 - accuracy: 0.8942\n"
          ]
        }
      ],
      "id": "JkuK9ELtPa39"
    },
    {
      "cell_type": "code",
      "source": [
        "y_pred = model_Binary.predict(x_test_pad)\n",
        "\n",
        "prediction_classes_Binary=[]\n",
        "for i in range(len(y_pred)):\n",
        "  if y_pred[i]>= 0.5:\n",
        "    prediction_classes_Binary.append(1)\n",
        "  else:\n",
        "    prediction_classes_Binary.append(0)"
      ],
      "metadata": {
        "colab": {
          "base_uri": "https://localhost:8080/"
        },
        "id": "kIRUdqX_3v2s",
        "outputId": "7065a146-b3d4-41a5-b8ec-606bfbcc08fe"
      },
      "execution_count": null,
      "outputs": [
        {
          "output_type": "stream",
          "name": "stdout",
          "text": [
            "1563/1563 [==============================] - 19s 12ms/step\n"
          ]
        }
      ],
      "id": "kIRUdqX_3v2s"
    },
    {
      "cell_type": "code",
      "source": [
        "cf_matrix_Binary = print(classification_report(y_test_d_binary,prediction_classes_Binary))"
      ],
      "metadata": {
        "colab": {
          "base_uri": "https://localhost:8080/"
        },
        "id": "TqA5hjQZZuRV",
        "outputId": "4d33c1e8-c4e3-42b2-b9aa-c6d89950ecd7"
      },
      "execution_count": null,
      "outputs": [
        {
          "output_type": "stream",
          "name": "stdout",
          "text": [
            "              precision    recall  f1-score   support\n",
            "\n",
            "           0       0.88      0.85      0.87     20000\n",
            "           1       0.90      0.92      0.91     30000\n",
            "\n",
            "    accuracy                           0.89     50000\n",
            "   macro avg       0.89      0.89      0.89     50000\n",
            "weighted avg       0.89      0.89      0.89     50000\n",
            "\n"
          ]
        }
      ],
      "id": "TqA5hjQZZuRV"
    },
    {
      "cell_type": "code",
      "source": [
        "from sklearn.metrics import confusion_matrix,accuracy_score,roc_auc_score,roc_curve,auc\n",
        "# ROC Curve\n",
        "# plot no skill\n",
        "# Calculate the points in the ROC curve\n",
        "def plot_roc_curve(y_test, y_pred):\n",
        "    ''' Plot the ROC curve for the target labels and predictions'''\n",
        "    fpr, tpr, thresholds = roc_curve(y_test, y_pred, pos_label=1)\n",
        "    roc_auc= auc(fpr,tpr)\n",
        "\n",
        "    plt.title('Binary ROC')\n",
        "    plt.plot(fpr, tpr, 'b', label = 'AUC = %0.2f' % roc_auc)\n",
        "    plt.legend(loc = 'lower right')\n",
        "    plt.plot([0, 1], [0, 1],'r--')\n",
        "    plt.xlim([0, 1])\n",
        "    plt.ylim([0, 1])\n",
        "    plt.ylabel('True Positive Rate')\n",
        "    plt.xlabel('False Positive Rate')\n",
        "    plt.show()\n",
        "\n",
        "plot_roc_curve(y_test_d_binary,y_pred)"
      ],
      "metadata": {
        "colab": {
          "base_uri": "https://localhost:8080/",
          "height": 296
        },
        "id": "yVRbLzO33Y3Z",
        "outputId": "227f33d9-ba6c-4fc5-d32d-8e80fb735357"
      },
      "execution_count": null,
      "outputs": [
        {
          "output_type": "display_data",
          "data": {
            "text/plain": [
              "<Figure size 432x288 with 1 Axes>"
            ],
            "image/png": "[encoded data removed]"
          },
          "metadata": {
            "needs_background": "light"
          }
        }
      ],
      "id": "yVRbLzO33Y3Z"
    },
    {
      "cell_type": "markdown",
      "source": [
        "# **Transformer based approch**"
      ],
      "metadata": {
        "id": "onyYFXI3zBs0"
      },
      "id": "onyYFXI3zBs0"
    },
    {
      "cell_type": "markdown",
      "source": [
        "In this last section we use  DistilBERT is a small, fast, cheap and light Transformer model trained by distilling BERT base. It has 40% less parameters than bert-base-uncased, runs 60% faster while preserving over 95% of BERT’s performances as measured on the GLUE language understanding benchmark.\n",
        "[source](https://huggingface.co/docs/transformers/model_doc/distilbert)"
      ],
      "metadata": {
        "id": "h3Y4-LqG1R14"
      },
      "id": "h3Y4-LqG1R14"
    },
    {
      "cell_type": "markdown",
      "source": [
        "## Preparing the data and finetuning the model"
      ],
      "metadata": {
        "id": "j0FvsetH1MLY"
      },
      "id": "j0FvsetH1MLY"
    },
    {
      "cell_type": "code",
      "execution_count": null,
      "metadata": {
        "colab": {
          "base_uri": "https://localhost:8080/"
        },
        "id": "93cc723f",
        "outputId": "ba4ad047-dd97-47e4-a1f3-fb7c09da0f3a"
      },
      "outputs": [
        {
          "name": "stdout",
          "output_type": "stream",
          "text": [
            "Looking in indexes: https://pypi.org/simple, https://us-python.pkg.dev/colab-wheels/public/simple/\n",
            "Requirement already satisfied: torch in /usr/local/lib/python3.8/dist-packages (1.13.0+cu116)\n",
            "Requirement already satisfied: typing-extensions in /usr/local/lib/python3.8/dist-packages (from torch) (4.4.0)\n"
          ]
        }
      ],
      "source": [
        "!pip install torch"
      ],
      "id": "93cc723f"
    },
    {
      "cell_type": "code",
      "execution_count": null,
      "metadata": {
        "id": "b5738ca1"
      },
      "outputs": [],
      "source": [
        "import torch"
      ],
      "id": "b5738ca1"
    },
    {
      "cell_type": "code",
      "execution_count": null,
      "metadata": {
        "colab": {
          "base_uri": "https://localhost:8080/"
        },
        "id": "6cf5fd35",
        "outputId": "40c509b8-da1e-4f7e-ae52-3ef147918740"
      },
      "outputs": [
        {
          "name": "stdout",
          "output_type": "stream",
          "text": [
            "\u001b[K     |████████████████████████████████| 5.8 MB 4.6 MB/s \n",
            "\u001b[K     |████████████████████████████████| 452 kB 85.8 MB/s \n",
            "\u001b[K     |████████████████████████████████| 7.6 MB 72.7 MB/s \n",
            "\u001b[K     |████████████████████████████████| 182 kB 85.7 MB/s \n",
            "\u001b[K     |████████████████████████████████| 132 kB 86.1 MB/s \n",
            "\u001b[K     |████████████████████████████████| 212 kB 91.5 MB/s \n",
            "\u001b[K     |████████████████████████████████| 127 kB 91.5 MB/s \n",
            "\u001b[?25h"
          ]
        }
      ],
      "source": [
        "!pip install -q transformers datasets"
      ],
      "id": "6cf5fd35"
    },
    {
      "cell_type": "code",
      "execution_count": null,
      "metadata": {
        "id": "c11100fb"
      },
      "outputs": [],
      "source": [
        "from datasets import Dataset, DatasetDict"
      ],
      "id": "c11100fb"
    },
    {
      "cell_type": "code",
      "execution_count": null,
      "metadata": {
        "colab": {
          "base_uri": "https://localhost:8080/"
        },
        "id": "abfbb417",
        "outputId": "60625d16-f918-44b3-aae4-41f619fe3336"
      },
      "outputs": [
        {
          "data": {
            "text/plain": [
              "650000"
            ]
          },
          "execution_count": 31,
          "metadata": {},
          "output_type": "execute_result"
        }
      ],
      "source": [
        "#Splitting the train dataset\n",
        "len(train)"
      ],
      "id": "abfbb417"
    },
    {
      "cell_type": "code",
      "execution_count": null,
      "metadata": {
        "id": "a76871ee"
      },
      "outputs": [],
      "source": [
        "btrain = train.rename(columns = {'rate' : 'label', 'Review' : 'review'})\n",
        "btest =  test.rename(columns = {'rate' : 'label', 'Review' : 'review'})\n",
        "\n",
        "btrain = train[['rate', 'review']][:600000]\n",
        "bvalidation = train[['rate', 'review']][600000:]\n",
        "btest = test[['rate', 'review']]"
      ],
      "id": "a76871ee"
    },
    {
      "cell_type": "code",
      "execution_count": null,
      "metadata": {
        "id": "7a908c35"
      },
      "outputs": [],
      "source": [
        "#Trasform into dummies variable\n",
        "btrain= pd.get_dummies(btrain, columns = ['rate'])\n",
        "bvalidation= pd.get_dummies(bvalidation, columns = ['rate'])\n",
        "btest= pd.get_dummies(btest, columns = ['rate'])"
      ],
      "id": "7a908c35"
    },
    {
      "cell_type": "code",
      "execution_count": null,
      "metadata": {
        "colab": {
          "base_uri": "https://localhost:8080/"
        },
        "id": "8c0412a7",
        "outputId": "bc6e7f0b-ae23-4b44-bc91-d5f5dad1089d"
      },
      "outputs": [
        {
          "data": {
            "text/plain": [
              "pandas.core.frame.DataFrame"
            ]
          },
          "execution_count": 34,
          "metadata": {},
          "output_type": "execute_result"
        }
      ],
      "source": [
        "type(btrain)"
      ],
      "id": "8c0412a7"
    },
    {
      "cell_type": "code",
      "execution_count": null,
      "metadata": {
        "id": "2ecbf276"
      },
      "outputs": [],
      "source": [
        "btrain = btrain.rename(columns = {'rate_1' : '1', 'rate_2': '2', 'rate_3' : '3', 'rate_4' : '4', 'rate_5' : '5'})\n",
        "bvalidation = bvalidation.rename(columns = {'rate_1' : '1', 'rate_2': '2', 'rate_3' : '3', 'rate_4' : '4', 'rate_5' : '5'})\n",
        "btest = btest.rename(columns = {'rate_1' : '1', 'rate_2': '2', 'rate_3' : '3', 'rate_4' : '4', 'rate_5' : '5'})"
      ],
      "id": "2ecbf276"
    },
    {
      "cell_type": "code",
      "execution_count": null,
      "metadata": {
        "id": "946e8db5"
      },
      "outputs": [],
      "source": [
        "train = Dataset.from_pandas(btrain)\n",
        "validation = Dataset.from_pandas(bvalidation)\n",
        "test = Dataset.from_pandas(btest)"
      ],
      "id": "946e8db5"
    },
    {
      "cell_type": "code",
      "execution_count": null,
      "metadata": {
        "id": "313309c5"
      },
      "outputs": [],
      "source": [
        "# Costruction of the dataset, thta will be the input of BERT\n",
        "#it must be a dictionary\n",
        "dataset = DatasetDict({\"train\" : train, \"validation\" : validation, \"test\" : test})"
      ],
      "id": "313309c5"
    },
    {
      "cell_type": "code",
      "execution_count": null,
      "metadata": {
        "colab": {
          "base_uri": "https://localhost:8080/"
        },
        "id": "1871aa77",
        "outputId": "7e2f4855-61dc-4b47-eec2-c6115bce3ea3"
      },
      "outputs": [
        {
          "name": "stdout",
          "output_type": "stream",
          "text": [
            "DatasetDict({\n",
            "    train: Dataset({\n",
            "        features: ['review', '1', '2', '3', '4', '5'],\n",
            "        num_rows: 600000\n",
            "    })\n",
            "    validation: Dataset({\n",
            "        features: ['review', '1', '2', '3', '4', '5'],\n",
            "        num_rows: 50000\n",
            "    })\n",
            "    test: Dataset({\n",
            "        features: ['review', '1', '2', '3', '4', '5'],\n",
            "        num_rows: 50000\n",
            "    })\n",
            "})\n"
          ]
        },
        {
          "data": {
            "text/plain": [
              "{'review': 'In the mood for pizza and salad so decided to try Ephesus Pizza. I was given a menu from the hotel. First the plus - large menu with unique items (Gyro meat on a pizza). Now the important stuff: Lots of choices for their pizzas. Their crust has medium thickness. The taste: OK but nothing great. The salad was OK. Delivery service was very quick. \\\\n\\\\nWill not be a repeat customer.',\n",
              " '1': 0,\n",
              " '2': 0,\n",
              " '3': 1,\n",
              " '4': 0,\n",
              " '5': 0}"
            ]
          },
          "execution_count": 38,
          "metadata": {},
          "output_type": "execute_result"
        }
      ],
      "source": [
        "print(dataset)\n",
        "#we can try to print an example\n",
        "example = dataset['train'][3000]\n",
        "example"
      ],
      "id": "1871aa77"
    },
    {
      "cell_type": "code",
      "execution_count": null,
      "metadata": {
        "colab": {
          "base_uri": "https://localhost:8080/"
        },
        "id": "fad89dc2",
        "outputId": "e697a6c3-6ba0-494d-86a9-f08580482310"
      },
      "outputs": [
        {
          "data": {
            "text/plain": [
              "['1', '2', '3', '4', '5']"
            ]
          },
          "execution_count": 39,
          "metadata": {},
          "output_type": "execute_result"
        }
      ],
      "source": [
        "# We have now to create that contains all the labes\n",
        "labels = [label for label in dataset['train'].features.keys() if label not in ['review']]\n",
        "id2label = {idx:label for idx, label in enumerate(labels)}\n",
        "label2id = {label:idx for idx, label in enumerate(labels)}\n",
        "labels\n"
      ],
      "id": "fad89dc2"
    },
    {
      "cell_type": "code",
      "execution_count": null,
      "metadata": {
        "colab": {
          "base_uri": "https://localhost:8080/",
          "height": 145,
          "referenced_widgets": [
            "9be088827e974014baf2ea53716e8cf2",
            "95112c2dd8ea4643acce5a9bdf21dc58",
            "c938eaf227ec47318071c2eb71980a5d",
            "80bc25367d39496f83bf0849772f7c00",
            "d9944721d39b42c08abea8ed52219eaa",
            "add92f363e534a5f82682251be851e2e",
            "867af2074d6740a6a5e5c3a6c29d4496",
            "f3d60e029849491fb691fe162e2bb74f",
            "555b7ebb411b4215934de1b318f91fc3",
            "e5be17203234463fbc58a2b8f2d322fc",
            "23c9e3401b764593aa12000843251055",
            "b64604b01db343c9b55586e908df4688",
            "b5c0d9ef95ca43ae8c811182b60ecd2e",
            "b4023832b4d6473ba28abe14277af40d",
            "17049ecb3f8d4c7bb98cbaee608bc067",
            "2895d93846ee4135851cc863d4d5ce2f",
            "ec732b6cfcb240eea55a7405b6d53dcb",
            "0d565b52a2654d7e8f43caa925ca2c74",
            "ff4fc805db404602a2e6776eca352620",
            "4cb4667eebe344c0a94d875d282b225e",
            "60c5cd4df9dd4a51b4dc4a734f9995af",
            "91982b019a0a48ed8e52f151bad6a468",
            "72a800564592406b94b8085793c8e4d9",
            "a2ed205495df46fa9b44696778fc1818",
            "01876ee225d74f978ccc9573a2989e6d",
            "1f6fe0461f8e4f78b8a57e9081b68034",
            "d636a55077ce439ba86bc739a036c1f3",
            "30c1eb3eec0b4a8983827b42e16dc265",
            "987dcb33a43c4c13b69c4d90d97c225c",
            "082d56982a134dfa91b253bb14793abf",
            "3391a7dff17b4a93aa6159a08e1e3344",
            "fd4b480f36fe4acfb2be97cb04a847ff",
            "e77a34f2de9045c992109229e8c0fc9c",
            "2bc1c65f611e4902b1148e83bf4af457",
            "ac832aef10e14bbab4694694d3fc5417",
            "71f50ce83cc44ab8a7ae19160ec8a29b",
            "46cb75569fb544f199e7a7158063b0c9",
            "20bdb27db61b43c1b42ef2bfa5592230",
            "31463e15366c4e8b9a81b5ebfc41c5d0",
            "65177da87d4a489e9f34d87a96e53d94",
            "c342852b4301486b8ff2076c9757cf8d",
            "4c144265a0674ae5ace7147e59676660",
            "6b7409e644ec4d538943a1829e95709c",
            "5bc7af661aad402c94debf10d3dbb69b"
          ]
        },
        "id": "5997e9bb",
        "outputId": "da247337-0854-49fb-bec8-0122aa89121d"
      },
      "outputs": [
        {
          "data": {
            "application/vnd.jupyter.widget-view+json": {
              "model_id": "9be088827e974014baf2ea53716e8cf2",
              "version_major": 2,
              "version_minor": 0
            },
            "text/plain": [
              "Downloading:   0%|          | 0.00/28.0 [00:00<?, ?B/s]"
            ]
          },
          "metadata": {},
          "output_type": "display_data"
        },
        {
          "data": {
            "application/vnd.jupyter.widget-view+json": {
              "model_id": "b64604b01db343c9b55586e908df4688",
              "version_major": 2,
              "version_minor": 0
            },
            "text/plain": [
              "Downloading:   0%|          | 0.00/483 [00:00<?, ?B/s]"
            ]
          },
          "metadata": {},
          "output_type": "display_data"
        },
        {
          "data": {
            "application/vnd.jupyter.widget-view+json": {
              "model_id": "72a800564592406b94b8085793c8e4d9",
              "version_major": 2,
              "version_minor": 0
            },
            "text/plain": [
              "Downloading:   0%|          | 0.00/232k [00:00<?, ?B/s]"
            ]
          },
          "metadata": {},
          "output_type": "display_data"
        },
        {
          "data": {
            "application/vnd.jupyter.widget-view+json": {
              "model_id": "2bc1c65f611e4902b1148e83bf4af457",
              "version_major": 2,
              "version_minor": 0
            },
            "text/plain": [
              "Downloading:   0%|          | 0.00/466k [00:00<?, ?B/s]"
            ]
          },
          "metadata": {},
          "output_type": "display_data"
        }
      ],
      "source": [
        "#We have to create the typoly of input that BERT require\n",
        "\n",
        "from transformers import AutoTokenizer\n",
        "import numpy as np\n",
        "\n",
        "tokenizer = AutoTokenizer.from_pretrained(\"distilbert-base-uncased\")\n",
        "\n",
        "def preprocess_data(examples):\n",
        "  # take a batch of texts\n",
        "  text = examples[\"review\"]\n",
        "  # encode them\n",
        "  encoding = tokenizer(text, padding=\"max_length\", truncation=True, max_length=128)\n",
        "  # add labels\n",
        "  labels_batch = {k: examples[k] for k in examples.keys() if k in labels}\n",
        "  # create numpy array of shape (batch_size, num_labels)\n",
        "  labels_matrix = np.zeros((len(text), len(labels)))\n",
        "  # fill numpy array\n",
        "  for idx, label in enumerate(labels):\n",
        "    labels_matrix[:, idx] = labels_batch[label]\n",
        "\n",
        "  encoding[\"labels\"] = labels_matrix.tolist()\n",
        "\n",
        "  return encoding"
      ],
      "id": "5997e9bb"
    },
    {
      "cell_type": "code",
      "execution_count": null,
      "metadata": {
        "colab": {
          "base_uri": "https://localhost:8080/",
          "height": 113,
          "referenced_widgets": [
            "86188c6b84c94ce888c8d74231f8841d",
            "85dd0d8e36184dd1839036267b83a6c3",
            "7cf1ae1001d94973ad22d57aca6bfc15",
            "2b90ea8560204de587e81217f4dbf561",
            "16e8628ebe01448f8bc084652b23777b",
            "a2eed51b3115487380e3e4a4e94e17ff",
            "b22ab43109bf406ba85e1d9b8b7c9cae",
            "e49d926b83464c93a3ba7f1c677e016e",
            "36f9a8e1f3b2423ca2e6182d71d9dccd",
            "757c88bd576f48e2960f35e0ad7c3bde",
            "268ef1c1dbee4b43820f7c1404bdf123",
            "69219d54ad894c3ebd29a0975f131cbd",
            "e7c23949ed5a4449be1ae54069c9bdc5",
            "ccc7796dc699451d90f11077a0b5b386",
            "f8505f19d3a440358d742d4fbd463e73",
            "6c8d9762e71c42d480362408c42511e9",
            "4ca6e466b9dd41e3bc9da60d2dd9600a",
            "3801f9f1efec4a68a08db7d671c9a7db",
            "0984544a7ec34c4bab803cafe0cca572",
            "2dbc5b94391e49269e151f6d051d5adc",
            "573ffb3730104efd9f724fad72b88382",
            "b0711ae91ae046fb9902327fa6c22471",
            "465631ca4567433881216e94e21930c5",
            "1823020bd426423382edd3cda4bbd88f",
            "1994401a17a244a186270b314a3db657",
            "eeba9bac3fb74ae981982a4b216b669a",
            "93e9280c253f40f580dc0f6863a83968",
            "73b4b484b8fc4922828c0ec89c1558e5",
            "c2d3374211644fd9bacc2f26112372b3",
            "1f8f4cf965e34daa803a05503bee0e74",
            "c87703e5e258481988bc586335b5735c",
            "a58054fda0d14ccc9f9e00868499321b",
            "779c023aaf84414c8cb52c17cd6c5642"
          ]
        },
        "id": "175f2015",
        "outputId": "740cd6a1-08c6-4a5d-c723-d3ef32388c05"
      },
      "outputs": [
        {
          "data": {
            "application/vnd.jupyter.widget-view+json": {
              "model_id": "86188c6b84c94ce888c8d74231f8841d",
              "version_major": 2,
              "version_minor": 0
            },
            "text/plain": [
              "  0%|          | 0/600 [00:00<?, ?ba/s]"
            ]
          },
          "metadata": {},
          "output_type": "display_data"
        },
        {
          "data": {
            "application/vnd.jupyter.widget-view+json": {
              "model_id": "69219d54ad894c3ebd29a0975f131cbd",
              "version_major": 2,
              "version_minor": 0
            },
            "text/plain": [
              "  0%|          | 0/50 [00:00<?, ?ba/s]"
            ]
          },
          "metadata": {},
          "output_type": "display_data"
        },
        {
          "data": {
            "application/vnd.jupyter.widget-view+json": {
              "model_id": "465631ca4567433881216e94e21930c5",
              "version_major": 2,
              "version_minor": 0
            },
            "text/plain": [
              "  0%|          | 0/50 [00:00<?, ?ba/s]"
            ]
          },
          "metadata": {},
          "output_type": "display_data"
        }
      ],
      "source": [
        "encoded_dataset = dataset.map(preprocess_data, batched=True, remove_columns=dataset['train'].column_names)"
      ],
      "id": "175f2015"
    },
    {
      "cell_type": "code",
      "execution_count": null,
      "metadata": {
        "colab": {
          "base_uri": "https://localhost:8080/"
        },
        "id": "753feb39",
        "outputId": "d1a4af4b-2416-4fac-dbd0-513702203700"
      },
      "outputs": [
        {
          "name": "stdout",
          "output_type": "stream",
          "text": [
            "dict_keys(['input_ids', 'attention_mask', 'labels'])\n"
          ]
        }
      ],
      "source": [
        "example = encoded_dataset['train'][0]\n",
        "print(example.keys())"
      ],
      "id": "753feb39"
    },
    {
      "cell_type": "code",
      "execution_count": null,
      "metadata": {
        "colab": {
          "base_uri": "https://localhost:8080/",
          "height": 105
        },
        "id": "ad964623",
        "outputId": "94e62b72-a5bd-493c-b9c9-9f3ced690336"
      },
      "outputs": [
        {
          "data": {
            "application/vnd.google.colaboratory.intrinsic+json": {
              "type": "string"
            },
            "text/plain": [
              "\"[CLS] dr. goldberg offers everything i look for in a general practitioner. he's nice and easy to talk to without being patronizing ; he's always on time in seeing his patients ; he's affiliated with a top - notch hospital ( nyu ) which my parents have explained to me is very important in case something happens and you need surgery ; and you can get referrals to see specialists without having to see him first. really, what more do you need? i'm sitting here trying to think of any complaints i have about him, but i'm really drawing a blank. [SEP] [PAD] [PAD] [PAD] [PAD] [PAD] [PAD]\""
            ]
          },
          "execution_count": 43,
          "metadata": {},
          "output_type": "execute_result"
        }
      ],
      "source": [
        "tokenizer.decode(example['input_ids'])"
      ],
      "id": "ad964623"
    },
    {
      "cell_type": "code",
      "execution_count": null,
      "metadata": {
        "colab": {
          "base_uri": "https://localhost:8080/"
        },
        "id": "13b1b7f9",
        "outputId": "975b5178-d214-4b70-9712-02dad2c9e6cc"
      },
      "outputs": [
        {
          "data": {
            "text/plain": [
              "[0.0, 0.0, 0.0, 0.0, 1.0]"
            ]
          },
          "execution_count": 44,
          "metadata": {},
          "output_type": "execute_result"
        }
      ],
      "source": [
        "example['labels']"
      ],
      "id": "13b1b7f9"
    },
    {
      "cell_type": "code",
      "execution_count": null,
      "metadata": {
        "colab": {
          "base_uri": "https://localhost:8080/"
        },
        "id": "76d60aa6",
        "outputId": "b1cd0cfa-86f4-4dfa-ecda-d3c26a30f4ee"
      },
      "outputs": [
        {
          "data": {
            "text/plain": [
              "['5']"
            ]
          },
          "execution_count": 45,
          "metadata": {},
          "output_type": "execute_result"
        }
      ],
      "source": [
        "[id2label[idx] for idx, label in enumerate(example['labels']) if label == 1.0]"
      ],
      "id": "76d60aa6"
    },
    {
      "cell_type": "code",
      "execution_count": null,
      "metadata": {
        "id": "aaa8b69a"
      },
      "outputs": [],
      "source": [
        "encoded_dataset.set_format(\"torch\")"
      ],
      "id": "aaa8b69a"
    },
    {
      "cell_type": "code",
      "execution_count": null,
      "metadata": {
        "colab": {
          "base_uri": "https://localhost:8080/",
          "height": 154,
          "referenced_widgets": [
            "739635816d8c457a9684fbe901437afc",
            "9f4f59f99ae74b3bbdf9a4d03568d4bf",
            "aa3a0a026bbb4df7ab40077c3286c301",
            "965b873c7ac446bb9aa8c32d064e223f",
            "1ca6a6e6bd4d4e388e703fdef8c65679",
            "5dd483712db94ae999e0e4ae5db97163",
            "b68e2d2f989a4efda255d1af95fa6442",
            "ec0c4a99b9f84e878bbcb2f75a19c128",
            "7cae8b60376a4defabe12c169fdb2b34",
            "7b4c9e280ee348cf8a45a5535cd79345",
            "e89724a5a40e43a29f81552a24b8e65c"
          ]
        },
        "id": "4c61c477",
        "outputId": "13645d24-0db2-4ed6-ca56-9fa502d7b033"
      },
      "outputs": [
        {
          "data": {
            "application/vnd.jupyter.widget-view+json": {
              "model_id": "739635816d8c457a9684fbe901437afc",
              "version_major": 2,
              "version_minor": 0
            },
            "text/plain": [
              "Downloading:   0%|          | 0.00/268M [00:00<?, ?B/s]"
            ]
          },
          "metadata": {},
          "output_type": "display_data"
        },
        {
          "name": "stderr",
          "output_type": "stream",
          "text": [
            "Some weights of the model checkpoint at distilbert-base-uncased were not used when initializing DistilBertForSequenceClassification: ['vocab_projector.weight', 'vocab_layer_norm.bias', 'vocab_transform.weight', 'vocab_projector.bias', 'vocab_layer_norm.weight', 'vocab_transform.bias']\n",
            "- This IS expected if you are initializing DistilBertForSequenceClassification from the checkpoint of a model trained on another task or with another architecture (e.g. initializing a BertForSequenceClassification model from a BertForPreTraining model).\n",
            "- This IS NOT expected if you are initializing DistilBertForSequenceClassification from the checkpoint of a model that you expect to be exactly identical (initializing a BertForSequenceClassification model from a BertForSequenceClassification model).\n",
            "Some weights of DistilBertForSequenceClassification were not initialized from the model checkpoint at distilbert-base-uncased and are newly initialized: ['pre_classifier.bias', 'pre_classifier.weight', 'classifier.weight', 'classifier.bias']\n",
            "You should probably TRAIN this model on a down-stream task to be able to use it for predictions and inference.\n"
          ]
        }
      ],
      "source": [
        "from transformers import AutoModelForSequenceClassification\n",
        "\n",
        "model = AutoModelForSequenceClassification.from_pretrained(\"distilbert-base-uncased\",\n",
        "                                                           problem_type=\"multi_label_classification\",\n",
        "                                                           num_labels=len(labels),\n",
        "                                                           id2label=id2label,\n",
        "                                                           label2id=label2id)"
      ],
      "id": "4c61c477"
    },
    {
      "cell_type": "code",
      "execution_count": null,
      "metadata": {
        "id": "46717e12"
      },
      "outputs": [],
      "source": [
        "batch_size = 64\n",
        "metric_name = \"f1\""
      ],
      "id": "46717e12"
    },
    {
      "cell_type": "code",
      "execution_count": null,
      "metadata": {
        "id": "beab1d53"
      },
      "outputs": [],
      "source": [
        "from transformers import TrainingArguments, Trainer\n",
        "\n",
        "args = TrainingArguments(\n",
        "    f\"distilbert-base-uncased-finetuned-sst-2-english\",\n",
        "    evaluation_strategy = \"epoch\",\n",
        "    save_strategy = \"epoch\",\n",
        "    learning_rate=2e-5,\n",
        "    per_device_train_batch_size=batch_size,\n",
        "    per_device_eval_batch_size=batch_size,\n",
        "    num_train_epochs=5,\n",
        "    weight_decay=0.01,\n",
        "    load_best_model_at_end=True,\n",
        "    metric_for_best_model=metric_name,\n",
        "    #push_to_hub=True,\n",
        ")"
      ],
      "id": "beab1d53"
    },
    {
      "cell_type": "code",
      "execution_count": null,
      "metadata": {
        "id": "3fa0c316"
      },
      "outputs": [],
      "source": [
        "from sklearn.metrics import f1_score, roc_auc_score, accuracy_score\n",
        "from transformers import EvalPrediction\n",
        "import torch\n",
        "\n",
        "\n",
        "def multi_label_metrics(predictions, labels, threshold=0.5):\n",
        "    # first, apply sigmoid on predictions which are of shape (batch_size, num_labels)\n",
        "    sigmoid = torch.nn.Sigmoid()\n",
        "    probs = sigmoid(torch.Tensor(predictions))\n",
        "    # next, use threshold to turn them into integer predictions\n",
        "    y_pred = np.zeros(probs.shape)\n",
        "    y_pred[np.where(probs >= threshold)] = 1\n",
        "    # finally, compute metrics\n",
        "    y_true = labels\n",
        "    f1_micro_average = f1_score(y_true=y_true, y_pred=y_pred, average='micro')\n",
        "    roc_auc = roc_auc_score(y_true, y_pred, average = 'micro')\n",
        "    accuracy = accuracy_score(y_true, y_pred)\n",
        "    # return as dictionary\n",
        "    metrics = {'f1': f1_micro_average,\n",
        "               'roc_auc': roc_auc,\n",
        "               'accuracy': accuracy}\n",
        "    return metrics\n",
        "\n",
        "def compute_metrics(p: EvalPrediction):\n",
        "    preds = p.predictions[0] if isinstance(p.predictions,\n",
        "            tuple) else p.predictions\n",
        "    result = multi_label_metrics(\n",
        "        predictions=preds,\n",
        "        labels=p.label_ids)\n",
        "    return result"
      ],
      "id": "3fa0c316"
    },
    {
      "cell_type": "code",
      "execution_count": null,
      "metadata": {
        "colab": {
          "base_uri": "https://localhost:8080/",
          "height": 37
        },
        "id": "235dea05",
        "outputId": "c387130d-a6c4-4cc5-fa6e-abb3765d290e"
      },
      "outputs": [
        {
          "data": {
            "application/vnd.google.colaboratory.intrinsic+json": {
              "type": "string"
            },
            "text/plain": [
              "'torch.FloatTensor'"
            ]
          },
          "execution_count": 51,
          "metadata": {},
          "output_type": "execute_result"
        }
      ],
      "source": [
        "encoded_dataset['train'][0]['labels'].type()"
      ],
      "id": "235dea05"
    },
    {
      "cell_type": "code",
      "execution_count": null,
      "metadata": {
        "colab": {
          "base_uri": "https://localhost:8080/"
        },
        "id": "440429eb",
        "outputId": "36518d96-17cf-4c40-c33b-1153a432abe2"
      },
      "outputs": [
        {
          "data": {
            "text/plain": [
              "tensor([  101,  2852,  1012, 18522,  4107,  2673,  1045,  2298,  2005,  1999,\n",
              "         1037,  2236, 18742,  1012,  2002,  1005,  1055,  3835,  1998,  3733,\n",
              "         2000,  2831,  2000,  2302,  2108,  9161,  6026,  1025,  2002,  1005,\n",
              "         1055,  2467,  2006,  2051,  1999,  3773,  2010,  5022,  1025,  2002,\n",
              "         1005,  1055,  6989,  2007,  1037,  2327,  1011, 18624,  2902,  1006,\n",
              "        27935,  1007,  2029,  2026,  3008,  2031,  4541,  2000,  2033,  2003,\n",
              "         2200,  2590,  1999,  2553,  2242,  6433,  1998,  2017,  2342,  5970,\n",
              "         1025,  1998,  2017,  2064,  2131,  6523,  7941,  2015,  2000,  2156,\n",
              "        15744,  2302,  2383,  2000,  2156,  2032,  2034,  1012,  2428,  1010,\n",
              "         2054,  2062,  2079,  2017,  2342,  1029,  1045,  1005,  1049,  3564,\n",
              "         2182,  2667,  2000,  2228,  1997,  2151, 10821,  1045,  2031,  2055,\n",
              "         2032,  1010,  2021,  1045,  1005,  1049,  2428,  5059,  1037,  8744,\n",
              "         1012,   102,     0,     0,     0,     0,     0,     0])"
            ]
          },
          "execution_count": 52,
          "metadata": {},
          "output_type": "execute_result"
        }
      ],
      "source": [
        "encoded_dataset['train']['input_ids'][0]"
      ],
      "id": "440429eb"
    },
    {
      "cell_type": "code",
      "execution_count": null,
      "metadata": {
        "colab": {
          "base_uri": "https://localhost:8080/"
        },
        "id": "437de3a2",
        "outputId": "d6264280-fde2-489e-ff65-2a627bc29868"
      },
      "outputs": [
        {
          "data": {
            "text/plain": [
              "SequenceClassifierOutput(loss=tensor(0.6958, grad_fn=<BinaryCrossEntropyWithLogitsBackward0>), logits=tensor([[ 0.0970, -0.0251,  0.0386,  0.0249,  0.1155]],\n",
              "       grad_fn=<AddmmBackward0>), hidden_states=None, attentions=None)"
            ]
          },
          "execution_count": 53,
          "metadata": {},
          "output_type": "execute_result"
        }
      ],
      "source": [
        "#forward pass\n",
        "outputs = model(input_ids=encoded_dataset['train']['input_ids'][0].unsqueeze(0), labels=encoded_dataset['train'][0]['labels'].unsqueeze(0))\n",
        "outputs"
      ],
      "id": "437de3a2"
    },
    {
      "cell_type": "code",
      "execution_count": null,
      "metadata": {
        "id": "b7c50b25"
      },
      "outputs": [],
      "source": [
        "trainer = Trainer(\n",
        "    model,\n",
        "    args,\n",
        "    train_dataset=encoded_dataset[\"train\"],\n",
        "    eval_dataset=encoded_dataset[\"validation\"],\n",
        "    tokenizer=tokenizer,\n",
        "    compute_metrics=compute_metrics\n",
        ")"
      ],
      "id": "b7c50b25"
    },
    {
      "cell_type": "markdown",
      "source": [
        "## Results"
      ],
      "metadata": {
        "id": "RX_ak4Ti1Xcw"
      },
      "id": "RX_ak4Ti1Xcw"
    },
    {
      "cell_type": "code",
      "execution_count": null,
      "metadata": {
        "colab": {
          "background_save": true,
          "base_uri": "https://localhost:8080/",
          "height": 736
        },
        "id": "447075d8",
        "outputId": "b5591066-7ad1-4aa4-e914-197fac6bad77"
      },
      "outputs": [
        {
          "name": "stderr",
          "output_type": "stream",
          "text": [
            "/usr/local/lib/python3.8/dist-packages/transformers/optimization.py:306: FutureWarning: This implementation of AdamW is deprecated and will be removed in a future version. Use the PyTorch implementation torch.optim.AdamW instead, or set `no_deprecation_warning=True` to disable this warning\n",
            "  warnings.warn(\n",
            "***** Running training *****\n",
            "  Num examples = 600000\n",
            "  Num Epochs = 5\n",
            "  Instantaneous batch size per device = 64\n",
            "  Total train batch size (w. parallel, distributed & accumulation) = 64\n",
            "  Gradient Accumulation steps = 1\n",
            "  Total optimization steps = 46875\n",
            "  Number of trainable parameters = 66957317\n",
            "You're using a DistilBertTokenizerFast tokenizer. Please note that with a fast tokenizer, using the `__call__` method is faster than using a method to encode the text followed by a call to the `pad` method to get a padded encoding.\n"
          ]
        },
        {
          "data": {
            "text/html": [
              "\n",
              "    <div>\n",
              "      \n",
              "      <progress value='46875' max='46875' style='width:300px; height:20px; vertical-align: middle;'></progress>\n",
              "      [46875/46875 2:26:02, Epoch 5/5]\n",
              "    </div>\n",
              "    <table border=\"1\" class=\"dataframe\">\n",
              "  <thead>\n",
              " <tr style=\"text-align: left;\">\n",
              "      <th>Epoch</th>\n",
              "      <th>Training Loss</th>\n",
              "      <th>Validation Loss</th>\n",
              "      <th>F1</th>\n",
              "      <th>Roc Auc</th>\n",
              "      <th>Accuracy</th>\n",
              "    </tr>\n",
              "  </thead>\n",
              "  <tbody>\n",
              "    <tr>\n",
              "      <td>1</td>\n",
              "      <td>0.294000</td>\n",
              "      <td>0.262749</td>\n",
              "      <td>0.665449</td>\n",
              "      <td>0.778487</td>\n",
              "      <td>0.611320</td>\n",
              "    </tr>\n",
              "    <tr>\n",
              "      <td>2</td>\n",
              "      <td>0.275900</td>\n",
              "      <td>0.259664</td>\n",
              "      <td>0.672769</td>\n",
              "      <td>0.784065</td>\n",
              "      <td>0.627260</td>\n",
              "    </tr>\n",
              "    <tr>\n",
              "      <td>3</td>\n",
              "      <td>0.256100</td>\n",
              "      <td>0.262941</td>\n",
              "      <td>0.680335</td>\n",
              "      <td>0.792578</td>\n",
              "      <td>0.649980</td>\n",
              "    </tr>\n",
              "    <tr>\n",
              "      <td>4</td>\n",
              "      <td>0.238400</td>\n",
              "      <td>0.271247</td>\n",
              "      <td>0.678578</td>\n",
              "      <td>0.793395</td>\n",
              "      <td>0.655300</td>\n",
              "    </tr>\n",
              "    <tr>\n",
              "      <td>5</td>\n",
              "      <td>0.228200</td>\n",
              "      <td>0.277039</td>\n",
              "      <td>0.675517</td>\n",
              "      <td>0.791932</td>\n",
              "      <td>0.653820</td>\n",
              "    </tr>\n",
              "  </tbody>\n",
              "</table><p>"
            ],
            "text/plain": [
              "<IPython.core.display.HTML object>"
            ]
          },
          "metadata": {},
          "output_type": "display_data"
        },
        {
          "name": "stderr",
          "output_type": "stream",
          "text": [
            "***** Running Evaluation *****\n",
            "  Num examples = 50000\n",
            "  Batch size = 64\n",
            "Saving model checkpoint to distilbert-base-uncased-finetuned-sst-2-english/checkpoint-9375\n",
            "Configuration saved in distilbert-base-uncased-finetuned-sst-2-english/checkpoint-9375/config.json\n",
            "Model weights saved in distilbert-base-uncased-finetuned-sst-2-english/checkpoint-9375/pytorch_model.bin\n",
            "tokenizer config file saved in distilbert-base-uncased-finetuned-sst-2-english/checkpoint-9375/tokenizer_config.json\n",
            "Special tokens file saved in distilbert-base-uncased-finetuned-sst-2-english/checkpoint-9375/special_tokens_map.json\n",
            "***** Running Evaluation *****\n",
            "  Num examples = 50000\n",
            "  Batch size = 64\n",
            "Saving model checkpoint to distilbert-base-uncased-finetuned-sst-2-english/checkpoint-18750\n",
            "Configuration saved in distilbert-base-uncased-finetuned-sst-2-english/checkpoint-18750/config.json\n",
            "Model weights saved in distilbert-base-uncased-finetuned-sst-2-english/checkpoint-18750/pytorch_model.bin\n",
            "tokenizer config file saved in distilbert-base-uncased-finetuned-sst-2-english/checkpoint-18750/tokenizer_config.json\n",
            "Special tokens file saved in distilbert-base-uncased-finetuned-sst-2-english/checkpoint-18750/special_tokens_map.json\n",
            "***** Running Evaluation *****\n",
            "  Num examples = 50000\n",
            "  Batch size = 64\n",
            "Saving model checkpoint to distilbert-base-uncased-finetuned-sst-2-english/checkpoint-28125\n",
            "Configuration saved in distilbert-base-uncased-finetuned-sst-2-english/checkpoint-28125/config.json\n",
            "Model weights saved in distilbert-base-uncased-finetuned-sst-2-english/checkpoint-28125/pytorch_model.bin\n",
            "tokenizer config file saved in distilbert-base-uncased-finetuned-sst-2-english/checkpoint-28125/tokenizer_config.json\n",
            "Special tokens file saved in distilbert-base-uncased-finetuned-sst-2-english/checkpoint-28125/special_tokens_map.json\n",
            "***** Running Evaluation *****\n",
            "  Num examples = 50000\n",
            "  Batch size = 64\n",
            "Saving model checkpoint to distilbert-base-uncased-finetuned-sst-2-english/checkpoint-37500\n",
            "Configuration saved in distilbert-base-uncased-finetuned-sst-2-english/checkpoint-37500/config.json\n",
            "Model weights saved in distilbert-base-uncased-finetuned-sst-2-english/checkpoint-37500/pytorch_model.bin\n",
            "tokenizer config file saved in distilbert-base-uncased-finetuned-sst-2-english/checkpoint-37500/tokenizer_config.json\n",
            "Special tokens file saved in distilbert-base-uncased-finetuned-sst-2-english/checkpoint-37500/special_tokens_map.json\n",
            "***** Running Evaluation *****\n",
            "  Num examples = 50000\n",
            "  Batch size = 64\n",
            "Saving model checkpoint to distilbert-base-uncased-finetuned-sst-2-english/checkpoint-46875\n",
            "Configuration saved in distilbert-base-uncased-finetuned-sst-2-english/checkpoint-46875/config.json\n",
            "Model weights saved in distilbert-base-uncased-finetuned-sst-2-english/checkpoint-46875/pytorch_model.bin\n",
            "tokenizer config file saved in distilbert-base-uncased-finetuned-sst-2-english/checkpoint-46875/tokenizer_config.json\n",
            "Special tokens file saved in distilbert-base-uncased-finetuned-sst-2-english/checkpoint-46875/special_tokens_map.json\n",
            "\n",
            "\n",
            "Training completed. Do not forget to share your model on huggingface.co/models =)\n",
            "\n",
            "\n",
            "Loading best model from distilbert-base-uncased-finetuned-sst-2-english/checkpoint-28125 (score: 0.680335410480532).\n"
          ]
        },
        {
          "data": {
            "text/plain": [
              "TrainOutput(global_step=46875, training_loss=0.26213076334635416, metrics={'train_runtime': 8764.9533, 'train_samples_per_second': 342.272, 'train_steps_per_second': 5.348, 'total_flos': 9.935586432e+16, 'train_loss': 0.26213076334635416, 'epoch': 5.0})"
            ]
          },
          "execution_count": 55,
          "metadata": {},
          "output_type": "execute_result"
        }
      ],
      "source": [
        "trainer.train()"
      ],
      "id": "447075d8"
    },
    {
      "cell_type": "code",
      "execution_count": null,
      "metadata": {
        "colab": {
          "background_save": true
        },
        "id": "ab4f6600",
        "outputId": "d9e28914-da10-40ef-f75a-d92b3fac4729"
      },
      "outputs": [
        {
          "name": "stderr",
          "output_type": "stream",
          "text": [
            "***** Running Evaluation *****\n",
            "  Num examples = 50000\n",
            "  Batch size = 64\n"
          ]
        },
        {
          "data": {
            "text/html": [
              "\n",
              "    <div>\n",
              "      \n",
              "      <progress value='782' max='782' style='width:300px; height:20px; vertical-align: middle;'></progress>\n",
              "      [782/782 00:54]\n",
              "    </div>\n",
              "    "
            ],
            "text/plain": [
              "<IPython.core.display.HTML object>"
            ]
          },
          "metadata": {},
          "output_type": "display_data"
        },
        {
          "data": {
            "text/plain": [
              "{'eval_loss': 0.2629408836364746,\n",
              " 'eval_f1': 0.680335410480532,\n",
              " 'eval_roc_auc': 0.7925775,\n",
              " 'eval_accuracy': 0.64998,\n",
              " 'eval_runtime': 54.6388,\n",
              " 'eval_samples_per_second': 915.1,\n",
              " 'eval_steps_per_second': 14.312,\n",
              " 'epoch': 5.0}"
            ]
          },
          "execution_count": 56,
          "metadata": {},
          "output_type": "execute_result"
        }
      ],
      "source": [
        "trainer.evaluate()"
      ],
      "id": "ab4f6600"
    },
    {
      "cell_type": "markdown",
      "id": "a7f11019",
      "metadata": {
        "id": "a7f11019"
      },
      "source": [
        "<img src=\"https://media.giphy.com/media/7daGnHQsteMjQHVQKi/giphy.gif\">"
      ]
    },
    {
      "cell_type": "markdown",
      "source": [
        "# **Comparing the results and final considerations**"
      ],
      "metadata": {
        "id": "utarT7cIl6GB"
      },
      "id": "utarT7cIl6GB"
    },
    {
      "cell_type": "code",
      "source": [
        "lst = [[None,None,0.68,0.65,0.792],[0.58,0.59,0.58,0.59,None],[0.64,0.64,0.64,0.64,None],[0.63,0.63,0.63,0.63,None],[0.56,0.54,0.54,0.536,None],[0.55,0.55,0.55,0.55,None],[0.89,0.89,0.89,0.89,0.96],[0.76,0.74,0.72,0.74,None]]\n",
        "df_compare_models = pd.DataFrame(lst, columns = ['Precision','Recall','F1-score','Accuracy','ROC'])\n",
        "df_compare_models.index = ['DistilBERT','LSTM','BiLSTM', 'GRU','MNB','LinearSVC' ,'Binary','VADER']"
      ],
      "metadata": {
        "id": "UpVxv1ltmavh"
      },
      "id": "UpVxv1ltmavh",
      "execution_count": null,
      "outputs": []
    },
    {
      "cell_type": "code",
      "source": [
        "df_compare_models"
      ],
      "metadata": {
        "colab": {
          "base_uri": "https://localhost:8080/",
          "height": 323
        },
        "id": "BJPH-EmkmT79",
        "outputId": "c72514f5-f2f9-4cdc-cd4c-4e0fd3c3885d"
      },
      "id": "BJPH-EmkmT79",
      "execution_count": null,
      "outputs": [
        {
          "output_type": "execute_result",
          "data": {
            "text/plain": [
              "            Precision  Recall  F1-score  Accuracy    ROC\n",
              "DistilBERT        NaN     NaN      0.68     0.650  0.792\n",
              "LSTM             0.58    0.59      0.58     0.590    NaN\n",
              "BiLSTM           0.64    0.64      0.64     0.640    NaN\n",
              "GRU              0.63    0.63      0.63     0.630    NaN\n",
              "MNB              0.56    0.54      0.54     0.536    NaN\n",
              "LinearSVC        0.55    0.55      0.55     0.550    NaN\n",
              "Binary           0.89    0.89      0.89     0.890  0.960\n",
              "VADER            0.76    0.74      0.72     0.740    NaN"
            ],
            "text/html": [
              "\n",
              "  <div id=\"df-bf0fc8bb-6ac4-4d08-9ef5-afa305e561e6\">\n",
              "    <div class=\"colab-df-container\">\n",
              "      <div>\n",
              "<style scoped>\n",
              "    .dataframe tbody tr th:only-of-type {\n",
              "        vertical-align: middle;\n",
              "    }\n",
              "\n",
              "    .dataframe tbody tr th {\n",
              "        vertical-align: top;\n",
              "    }\n",
              "\n",
              "    .dataframe thead th {\n",
              "        text-align: right;\n",
              "    }\n",
              "</style>\n",
              "<table border=\"1\" class=\"dataframe\">\n",
              "  <thead>\n",
              "    <tr style=\"text-align: right;\">\n",
              "      <th></th>\n",
              "      <th>Precision</th>\n",
              "      <th>Recall</th>\n",
              "      <th>F1-score</th>\n",
              "      <th>Accuracy</th>\n",
              "      <th>ROC</th>\n",
              "    </tr>\n",
              "  </thead>\n",
              "  <tbody>\n",
              "    <tr>\n",
              "      <th>DistilBERT</th>\n",
              "      <td>NaN</td>\n",
              "      <td>NaN</td>\n",
              "      <td>0.68</td>\n",
              "      <td>0.650</td>\n",
              "      <td>0.792</td>\n",
              "    </tr>\n",
              "    <tr>\n",
              "      <th>LSTM</th>\n",
              "      <td>0.58</td>\n",
              "      <td>0.59</td>\n",
              "      <td>0.58</td>\n",
              "      <td>0.590</td>\n",
              "      <td>NaN</td>\n",
              "    </tr>\n",
              "    <tr>\n",
              "      <th>BiLSTM</th>\n",
              "      <td>0.64</td>\n",
              "      <td>0.64</td>\n",
              "      <td>0.64</td>\n",
              "      <td>0.640</td>\n",
              "      <td>NaN</td>\n",
              "    </tr>\n",
              "    <tr>\n",
              "      <th>GRU</th>\n",
              "      <td>0.63</td>\n",
              "      <td>0.63</td>\n",
              "      <td>0.63</td>\n",
              "      <td>0.630</td>\n",
              "      <td>NaN</td>\n",
              "    </tr>\n",
              "    <tr>\n",
              "      <th>MNB</th>\n",
              "      <td>0.56</td>\n",
              "      <td>0.54</td>\n",
              "      <td>0.54</td>\n",
              "      <td>0.536</td>\n",
              "      <td>NaN</td>\n",
              "    </tr>\n",
              "    <tr>\n",
              "      <th>LinearSVC</th>\n",
              "      <td>0.55</td>\n",
              "      <td>0.55</td>\n",
              "      <td>0.55</td>\n",
              "      <td>0.550</td>\n",
              "      <td>NaN</td>\n",
              "    </tr>\n",
              "    <tr>\n",
              "      <th>Binary</th>\n",
              "      <td>0.89</td>\n",
              "      <td>0.89</td>\n",
              "      <td>0.89</td>\n",
              "      <td>0.890</td>\n",
              "      <td>0.960</td>\n",
              "    </tr>\n",
              "    <tr>\n",
              "      <th>VADER</th>\n",
              "      <td>0.76</td>\n",
              "      <td>0.74</td>\n",
              "      <td>0.72</td>\n",
              "      <td>0.740</td>\n",
              "      <td>NaN</td>\n",
              "    </tr>\n",
              "  </tbody>\n",
              "</table>\n",
              "</div>\n",
              "      <button class=\"colab-df-convert\" onclick=\"convertToInteractive('df-bf0fc8bb-6ac4-4d08-9ef5-afa305e561e6')\"\n",
              "              title=\"Convert this dataframe to an interactive table.\"\n",
              "              style=\"display:none;\">\n",
              "        \n",
              "  <svg xmlns=\"http://www.w3.org/2000/svg\" height=\"24px\"viewBox=\"0 0 24 24\"\n",
              "       width=\"24px\">\n",
              "    <path d=\"M0 0h24v24H0V0z\" fill=\"none\"/>\n",
              "    <path d=\"M18.56 5.44l.94 2.06.94-2.06 2.06-.94-2.06-.94-.94-2.06-.94 2.06-2.06.94zm-11 1L8.5 8.5l.94-2.06 2.06-.94-2.06-.94L8.5 2.5l-.94 2.06-2.06.94zm10 10l.94 2.06.94-2.06 2.06-.94-2.06-.94-.94-2.06-.94 2.06-2.06.94z\"/><path d=\"M17.41 7.96l-1.37-1.37c-.4-.4-.92-.59-1.43-.59-.52 0-1.04.2-1.43.59L10.3 9.45l-7.72 7.72c-.78.78-.78 2.05 0 2.83L4 21.41c.39.39.9.59 1.41.59.51 0 1.02-.2 1.41-.59l7.78-7.78 2.81-2.81c.8-.78.8-2.07 0-2.86zM5.41 20L4 18.59l7.72-7.72 1.47 1.35L5.41 20z\"/>\n",
              "  </svg>\n",
              "      </button>\n",
              "      \n",
              "  <style>\n",
              "    .colab-df-container {\n",
              "      display:flex;\n",
              "      flex-wrap:wrap;\n",
              "      gap: 12px;\n",
              "    }\n",
              "\n",
              "    .colab-df-convert {\n",
              "      background-color: #E8F0FE;\n",
              "      border: none;\n",
              "      border-radius: 50%;\n",
              "      cursor: pointer;\n",
              "      display: none;\n",
              "      fill: #1967D2;\n",
              "      height: 32px;\n",
              "      padding: 0 0 0 0;\n",
              "      width: 32px;\n",
              "    }\n",
              "\n",
              "    .colab-df-convert:hover {\n",
              "      background-color: #E2EBFA;\n",
              "      box-shadow: 0px 1px 2px rgba(60, 64, 67, 0.3), 0px 1px 3px 1px rgba(60, 64, 67, 0.15);\n",
              "      fill: #174EA6;\n",
              "    }\n",
              "\n",
              "    [theme=dark] .colab-df-convert {\n",
              "      background-color: #3B4455;\n",
              "      fill: #D2E3FC;\n",
              "    }\n",
              "\n",
              "    [theme=dark] .colab-df-convert:hover {\n",
              "      background-color: #434B5C;\n",
              "      box-shadow: 0px 1px 3px 1px rgba(0, 0, 0, 0.15);\n",
              "      filter: drop-shadow(0px 1px 2px rgba(0, 0, 0, 0.3));\n",
              "      fill: #FFFFFF;\n",
              "    }\n",
              "  </style>\n",
              "\n",
              "      <script>\n",
              "        const buttonEl =\n",
              "          document.querySelector('#df-bf0fc8bb-6ac4-4d08-9ef5-afa305e561e6 button.colab-df-convert');\n",
              "        buttonEl.style.display =\n",
              "          google.colab.kernel.accessAllowed ? 'block' : 'none';\n",
              "\n",
              "        async function convertToInteractive(key) {\n",
              "          const element = document.querySelector('#df-bf0fc8bb-6ac4-4d08-9ef5-afa305e561e6');\n",
              "          const dataTable =\n",
              "            await google.colab.kernel.invokeFunction('convertToInteractive',\n",
              "                                                     [key], {});\n",
              "          if (!dataTable) return;\n",
              "\n",
              "          const docLinkHtml = 'Like what you see? Visit the ' +\n",
              "            '<a target=\"_blank\" href=https://colab.research.google.com/notebooks/data_table.ipynb>data table notebook</a>'\n",
              "            + ' to learn more about interactive tables.';\n",
              "          element.innerHTML = '';\n",
              "          dataTable['output_type'] = 'display_data';\n",
              "          await google.colab.output.renderOutput(dataTable, element);\n",
              "          const docLink = document.createElement('div');\n",
              "          docLink.innerHTML = docLinkHtml;\n",
              "          element.appendChild(docLink);\n",
              "        }\n",
              "      </script>\n",
              "    </div>\n",
              "  </div>\n",
              "  "
            ]
          },
          "metadata": {},
          "execution_count": 83
        }
      ]
    },
    {
      "cell_type": "markdown",
      "source": [
        "First, from the table above we can see a marked improvement in all metric values due to the transition from LSTM to BiLSTM.\n",
        "\n",
        "Moreover, our BiLSTM with the choosen activation function had the best performance among those considered and almost reached DistilBERT. With the same activation function GRU is just slightly worse than BiLSTM.  \n",
        "\n",
        "The performance of models implemented without neural networks is fairly similar to each other but significantly inferior to models with neural networks.\n",
        "\n",
        "While looking at the Binary classification models the same LSTM model used before predicts the sentiment better than VADER."
      ],
      "metadata": {
        "id": "9n0hKtqmmBmy"
      },
      "id": "9n0hKtqmmBmy"
    }
  ],
  "metadata": {
    "kernelspec": {
      "display_name": "Python 3 (ipykernel)",
      "language": "python",
      "name": "python3"
    },
    "language_info": {
      "codemirror_mode": {
        "name": "ipython",
        "version": 3
      },
      "file_extension": ".py",
      "mimetype": "text/x-python",
      "name": "python",
      "nbconvert_exporter": "python",
      "pygments_lexer": "ipython3",
      "version": "3.9.15"
    },
    "colab": {
      "provenance": [],
      "collapsed_sections": [
        "61c9b853",
        "d34b719b",
        "da616cbe",
        "c9b15f98",
        "32b482a0",
        "f6895ce3",
        "2a50db18",
        "17a71e6b",
        "478a2a2a",
        "864c630e",
        "bf7d6493",
        "0214ca42",
        "7a58a254",
        "bb68fb76",
        "2a0ff0bd",
        "3a3be637",
        "d9ec59dd",
        "145c364c",
        "3d5af412",
        "d1Ajf9HjPZOR",
        "fMzyAHvOxQMG",
        "52762ea8",
        "36b09a1d",
        "HVRLOGSehu3r",
        "-aqO9LQQBLST",
        "6ivWc7VnxdC2",
        "XrjEfopXBUpJ",
        "K8x9CArJYZye",
        "Nri8t2yJBez3",
        "R8oSWOBvBj2N",
        "onyYFXI3zBs0",
        "j0FvsetH1MLY"
      ],
      "machine_shape": "hm",
      "gpuClass": "premium",
      "include_colab_link": true
    },
    "gpuClass": "premium"
  },
  "nbformat": 4,
  "nbformat_minor": 5
}